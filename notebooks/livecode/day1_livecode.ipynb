{
 "cells": [
  {
   "cell_type": "markdown",
   "metadata": {},
   "source": [
    "### Import libraries"
   ]
  },
  {
   "cell_type": "code",
   "execution_count": 6,
   "metadata": {},
   "outputs": [],
   "source": [
    "import pandas as pd\n",
    "import seaborn as sns\n",
    "import matplotlib.pyplot as plt"
   ]
  },
  {
   "cell_type": "markdown",
   "metadata": {},
   "source": [
    "### Use pandas to read the csv"
   ]
  },
  {
   "cell_type": "code",
   "execution_count": 15,
   "metadata": {},
   "outputs": [],
   "source": [
    "loans_df = pd.read_csv('../../data/loans_clean.csv', index_col=0)"
   ]
  },
  {
   "cell_type": "markdown",
   "metadata": {},
   "source": [
    "### Explore your dataframe"
   ]
  },
  {
   "cell_type": "markdown",
   "metadata": {},
   "source": [
    "Use a method to explore the `first five rows` of the df"
   ]
  },
  {
   "cell_type": "code",
   "execution_count": 16,
   "metadata": {},
   "outputs": [
    {
     "data": {
      "text/html": [
       "<div>\n",
       "<style scoped>\n",
       "    .dataframe tbody tr th:only-of-type {\n",
       "        vertical-align: middle;\n",
       "    }\n",
       "\n",
       "    .dataframe tbody tr th {\n",
       "        vertical-align: top;\n",
       "    }\n",
       "\n",
       "    .dataframe thead th {\n",
       "        text-align: right;\n",
       "    }\n",
       "</style>\n",
       "<table border=\"1\" class=\"dataframe\">\n",
       "  <thead>\n",
       "    <tr style=\"text-align: right;\">\n",
       "      <th></th>\n",
       "      <th>id</th>\n",
       "      <th>loan_amnt</th>\n",
       "      <th>term</th>\n",
       "      <th>int_rate</th>\n",
       "      <th>installment</th>\n",
       "      <th>grade</th>\n",
       "      <th>sub_grade</th>\n",
       "      <th>emp_length</th>\n",
       "      <th>home_ownership</th>\n",
       "      <th>annual_inc</th>\n",
       "      <th>addr_state</th>\n",
       "      <th>dti</th>\n",
       "      <th>total_rec_late_fee</th>\n",
       "      <th>purpose</th>\n",
       "      <th>loan_status</th>\n",
       "    </tr>\n",
       "  </thead>\n",
       "  <tbody>\n",
       "    <tr>\n",
       "      <th>0</th>\n",
       "      <td>76333286</td>\n",
       "      <td>15000.0</td>\n",
       "      <td>36 months</td>\n",
       "      <td>6.97</td>\n",
       "      <td>462.96</td>\n",
       "      <td>A</td>\n",
       "      <td>A3</td>\n",
       "      <td>5 year</td>\n",
       "      <td>MORTGAGE</td>\n",
       "      <td>60000.0</td>\n",
       "      <td>GA</td>\n",
       "      <td>21.84</td>\n",
       "      <td>0.000000</td>\n",
       "      <td>credit_card</td>\n",
       "      <td>Fully Paid</td>\n",
       "    </tr>\n",
       "    <tr>\n",
       "      <th>1</th>\n",
       "      <td>31217609</td>\n",
       "      <td>8000.0</td>\n",
       "      <td>36 months</td>\n",
       "      <td>16.29</td>\n",
       "      <td>282.41</td>\n",
       "      <td>D</td>\n",
       "      <td>D2</td>\n",
       "      <td>10 year</td>\n",
       "      <td>OWN</td>\n",
       "      <td>43000.0</td>\n",
       "      <td>FL</td>\n",
       "      <td>24.81</td>\n",
       "      <td>0.000000</td>\n",
       "      <td>other</td>\n",
       "      <td>Fully Paid</td>\n",
       "    </tr>\n",
       "    <tr>\n",
       "      <th>2</th>\n",
       "      <td>1278205</td>\n",
       "      <td>3500.0</td>\n",
       "      <td>60 months</td>\n",
       "      <td>20.50</td>\n",
       "      <td>93.71</td>\n",
       "      <td>E</td>\n",
       "      <td>E2</td>\n",
       "      <td>5 year</td>\n",
       "      <td>OWN</td>\n",
       "      <td>34000.0</td>\n",
       "      <td>OH</td>\n",
       "      <td>21.07</td>\n",
       "      <td>14.968877</td>\n",
       "      <td>debt_consolidation</td>\n",
       "      <td>Charged Off</td>\n",
       "    </tr>\n",
       "    <tr>\n",
       "      <th>3</th>\n",
       "      <td>130928637</td>\n",
       "      <td>3700.0</td>\n",
       "      <td>36 months</td>\n",
       "      <td>23.87</td>\n",
       "      <td>144.91</td>\n",
       "      <td>E</td>\n",
       "      <td>E2</td>\n",
       "      <td>1 year</td>\n",
       "      <td>RENT</td>\n",
       "      <td>36000.0</td>\n",
       "      <td>WA</td>\n",
       "      <td>16.73</td>\n",
       "      <td>0.000000</td>\n",
       "      <td>vacation</td>\n",
       "      <td>Current</td>\n",
       "    </tr>\n",
       "    <tr>\n",
       "      <th>4</th>\n",
       "      <td>71845894</td>\n",
       "      <td>24000.0</td>\n",
       "      <td>36 months</td>\n",
       "      <td>14.46</td>\n",
       "      <td>825.64</td>\n",
       "      <td>C</td>\n",
       "      <td>C4</td>\n",
       "      <td>10 year</td>\n",
       "      <td>MORTGAGE</td>\n",
       "      <td>106404.0</td>\n",
       "      <td>CA</td>\n",
       "      <td>13.54</td>\n",
       "      <td>0.000000</td>\n",
       "      <td>home_improvement</td>\n",
       "      <td>Fully Paid</td>\n",
       "    </tr>\n",
       "  </tbody>\n",
       "</table>\n",
       "</div>"
      ],
      "text/plain": [
       "          id  loan_amnt        term  int_rate  installment grade sub_grade  \\\n",
       "0   76333286    15000.0   36 months      6.97       462.96     A        A3   \n",
       "1   31217609     8000.0   36 months     16.29       282.41     D        D2   \n",
       "2    1278205     3500.0   60 months     20.50        93.71     E        E2   \n",
       "3  130928637     3700.0   36 months     23.87       144.91     E        E2   \n",
       "4   71845894    24000.0   36 months     14.46       825.64     C        C4   \n",
       "\n",
       "  emp_length home_ownership  annual_inc addr_state    dti  total_rec_late_fee  \\\n",
       "0     5 year       MORTGAGE     60000.0         GA  21.84            0.000000   \n",
       "1    10 year            OWN     43000.0         FL  24.81            0.000000   \n",
       "2     5 year            OWN     34000.0         OH  21.07           14.968877   \n",
       "3     1 year           RENT     36000.0         WA  16.73            0.000000   \n",
       "4    10 year       MORTGAGE    106404.0         CA  13.54            0.000000   \n",
       "\n",
       "              purpose  loan_status  \n",
       "0         credit_card   Fully Paid  \n",
       "1               other   Fully Paid  \n",
       "2  debt_consolidation  Charged Off  \n",
       "3            vacation      Current  \n",
       "4    home_improvement   Fully Paid  "
      ]
     },
     "execution_count": 16,
     "metadata": {},
     "output_type": "execute_result"
    }
   ],
   "source": [
    "loans_df.head()"
   ]
  },
  {
   "cell_type": "markdown",
   "metadata": {},
   "source": [
    "Immediately we can tell you that we won't need the columns listed below. Let' take them out of the df."
   ]
  },
  {
   "cell_type": "code",
   "execution_count": 9,
   "metadata": {},
   "outputs": [],
   "source": [
    "columns_to_delete = ['id', 'sub_grade', 'addr_state', 'purpose']\n",
    "\n",
    "loans_df.drop(columns=columns_to_delete, inplace=True)"
   ]
  },
  {
   "cell_type": "markdown",
   "metadata": {},
   "source": [
    "Use a method to check the `summary` of your numerical columns"
   ]
  },
  {
   "cell_type": "code",
   "execution_count": 10,
   "metadata": {},
   "outputs": [
    {
     "data": {
      "text/html": [
       "<div>\n",
       "<style scoped>\n",
       "    .dataframe tbody tr th:only-of-type {\n",
       "        vertical-align: middle;\n",
       "    }\n",
       "\n",
       "    .dataframe tbody tr th {\n",
       "        vertical-align: top;\n",
       "    }\n",
       "\n",
       "    .dataframe thead th {\n",
       "        text-align: right;\n",
       "    }\n",
       "</style>\n",
       "<table border=\"1\" class=\"dataframe\">\n",
       "  <thead>\n",
       "    <tr style=\"text-align: right;\">\n",
       "      <th></th>\n",
       "      <th>Unnamed: 0</th>\n",
       "      <th>loan_amnt</th>\n",
       "      <th>int_rate</th>\n",
       "      <th>installment</th>\n",
       "      <th>annual_inc</th>\n",
       "      <th>dti</th>\n",
       "      <th>total_rec_late_fee</th>\n",
       "    </tr>\n",
       "  </thead>\n",
       "  <tbody>\n",
       "    <tr>\n",
       "      <th>count</th>\n",
       "      <td>207954.000000</td>\n",
       "      <td>207954.000000</td>\n",
       "      <td>207954.000000</td>\n",
       "      <td>207954.000000</td>\n",
       "      <td>2.079540e+05</td>\n",
       "      <td>207954.000000</td>\n",
       "      <td>207954.000000</td>\n",
       "    </tr>\n",
       "    <tr>\n",
       "      <th>mean</th>\n",
       "      <td>103976.500000</td>\n",
       "      <td>15228.860950</td>\n",
       "      <td>13.039510</td>\n",
       "      <td>450.859652</td>\n",
       "      <td>7.983619e+04</td>\n",
       "      <td>18.533232</td>\n",
       "      <td>1.284585</td>\n",
       "    </tr>\n",
       "    <tr>\n",
       "      <th>std</th>\n",
       "      <td>60031.293277</td>\n",
       "      <td>9208.162242</td>\n",
       "      <td>4.831344</td>\n",
       "      <td>268.083216</td>\n",
       "      <td>7.442074e+04</td>\n",
       "      <td>11.669183</td>\n",
       "      <td>10.233253</td>\n",
       "    </tr>\n",
       "    <tr>\n",
       "      <th>min</th>\n",
       "      <td>0.000000</td>\n",
       "      <td>900.000000</td>\n",
       "      <td>5.310000</td>\n",
       "      <td>21.810000</td>\n",
       "      <td>4.000000e+02</td>\n",
       "      <td>0.000000</td>\n",
       "      <td>0.000000</td>\n",
       "    </tr>\n",
       "    <tr>\n",
       "      <th>25%</th>\n",
       "      <td>51988.250000</td>\n",
       "      <td>8000.000000</td>\n",
       "      <td>9.440000</td>\n",
       "      <td>256.040000</td>\n",
       "      <td>4.800000e+04</td>\n",
       "      <td>11.820000</td>\n",
       "      <td>0.000000</td>\n",
       "    </tr>\n",
       "    <tr>\n",
       "      <th>50%</th>\n",
       "      <td>103976.500000</td>\n",
       "      <td>13000.000000</td>\n",
       "      <td>12.620000</td>\n",
       "      <td>383.070000</td>\n",
       "      <td>6.700000e+04</td>\n",
       "      <td>17.690000</td>\n",
       "      <td>0.000000</td>\n",
       "    </tr>\n",
       "    <tr>\n",
       "      <th>75%</th>\n",
       "      <td>155964.750000</td>\n",
       "      <td>20000.000000</td>\n",
       "      <td>15.800000</td>\n",
       "      <td>599.960000</td>\n",
       "      <td>9.500000e+04</td>\n",
       "      <td>24.250000</td>\n",
       "      <td>0.000000</td>\n",
       "    </tr>\n",
       "    <tr>\n",
       "      <th>max</th>\n",
       "      <td>207953.000000</td>\n",
       "      <td>40000.000000</td>\n",
       "      <td>30.990000</td>\n",
       "      <td>1618.030000</td>\n",
       "      <td>1.099920e+07</td>\n",
       "      <td>999.000000</td>\n",
       "      <td>1098.360001</td>\n",
       "    </tr>\n",
       "  </tbody>\n",
       "</table>\n",
       "</div>"
      ],
      "text/plain": [
       "          Unnamed: 0      loan_amnt       int_rate    installment  \\\n",
       "count  207954.000000  207954.000000  207954.000000  207954.000000   \n",
       "mean   103976.500000   15228.860950      13.039510     450.859652   \n",
       "std     60031.293277    9208.162242       4.831344     268.083216   \n",
       "min         0.000000     900.000000       5.310000      21.810000   \n",
       "25%     51988.250000    8000.000000       9.440000     256.040000   \n",
       "50%    103976.500000   13000.000000      12.620000     383.070000   \n",
       "75%    155964.750000   20000.000000      15.800000     599.960000   \n",
       "max    207953.000000   40000.000000      30.990000    1618.030000   \n",
       "\n",
       "         annual_inc            dti  total_rec_late_fee  \n",
       "count  2.079540e+05  207954.000000       207954.000000  \n",
       "mean   7.983619e+04      18.533232            1.284585  \n",
       "std    7.442074e+04      11.669183           10.233253  \n",
       "min    4.000000e+02       0.000000            0.000000  \n",
       "25%    4.800000e+04      11.820000            0.000000  \n",
       "50%    6.700000e+04      17.690000            0.000000  \n",
       "75%    9.500000e+04      24.250000            0.000000  \n",
       "max    1.099920e+07     999.000000         1098.360001  "
      ]
     },
     "execution_count": 10,
     "metadata": {},
     "output_type": "execute_result"
    }
   ],
   "source": [
    "loans_df.describe()"
   ]
  },
  {
   "cell_type": "markdown",
   "metadata": {},
   "source": [
    "Check the `shape` of your dataframe to discover how many observations and features you have"
   ]
  },
  {
   "cell_type": "code",
   "execution_count": 11,
   "metadata": {},
   "outputs": [
    {
     "data": {
      "text/plain": [
       "(207954, 12)"
      ]
     },
     "execution_count": 11,
     "metadata": {},
     "output_type": "execute_result"
    }
   ],
   "source": [
    "loans_df.shape"
   ]
  },
  {
   "cell_type": "markdown",
   "metadata": {},
   "source": [
    "Use a method to check the `type` of your columns \n"
   ]
  },
  {
   "cell_type": "code",
   "execution_count": 12,
   "metadata": {},
   "outputs": [
    {
     "data": {
      "text/plain": [
       "Unnamed: 0              int64\n",
       "loan_amnt             float64\n",
       "term                   object\n",
       "int_rate              float64\n",
       "installment           float64\n",
       "grade                  object\n",
       "emp_length             object\n",
       "home_ownership         object\n",
       "annual_inc            float64\n",
       "dti                   float64\n",
       "total_rec_late_fee    float64\n",
       "loan_status            object\n",
       "dtype: object"
      ]
     },
     "execution_count": 12,
     "metadata": {},
     "output_type": "execute_result"
    }
   ],
   "source": [
    "loans_df.dtypes"
   ]
  },
  {
   "cell_type": "markdown",
   "metadata": {},
   "source": [
    "### Visualisation"
   ]
  },
  {
   "cell_type": "markdown",
   "metadata": {},
   "source": [
    "Seaborn is our go-to visualisation library as it gives us great graphs without to many coding."
   ]
  },
  {
   "cell_type": "markdown",
   "metadata": {},
   "source": [
    "##### Scatterplots"
   ]
  },
  {
   "cell_type": "markdown",
   "metadata": {},
   "source": [
    "**Scatterplots** are a usefull tool to identify relationships between two numerical variables. \n",
    "\n",
    "We've already plotted `loan amount` vs the `installment` in the lecture. Makes sense though that there's a relationship. The relationship is however not always that clear\n",
    "\n",
    "Let's plot `loan amount` versus `total late payments` to see if people who loan more, generally have more difficulties to pay back their loan"
   ]
  },
  {
   "cell_type": "code",
   "execution_count": 7,
   "metadata": {},
   "outputs": [
    {
     "data": {
      "image/png": "[encoded data removed]",
      "text/plain": [
       "<Figure size 432x288 with 1 Axes>"
      ]
     },
     "metadata": {
      "needs_background": "light"
     },
     "output_type": "display_data"
    }
   ],
   "source": [
    "sns.scatterplot(data=loans_df, x='loan_amnt', y= 'total_rec_late_fee');"
   ]
  },
  {
   "cell_type": "markdown",
   "metadata": {},
   "source": [
    "Since this shows us the correlation of these variables we can carefully conclude that there is a postive correlation between `loan_amnt` and `total_rec_late_fee`."
   ]
  },
  {
   "cell_type": "markdown",
   "metadata": {},
   "source": [
    "For further analysis let's create an extra column called `'has_late_fees'` where we want a `boolean` that defines if a customer has had late fees. So we want a `True` if `total_rec_late_fee` > 0."
   ]
  },
  {
   "cell_type": "code",
   "execution_count": 25,
   "metadata": {},
   "outputs": [],
   "source": [
    "loans_df['has_late_fees'] = loans_df['total_rec_late_fee'] > 0"
   ]
  },
  {
   "cell_type": "markdown",
   "metadata": {},
   "source": [
    "#### Histograms"
   ]
  },
  {
   "cell_type": "markdown",
   "metadata": {},
   "source": [
    "**Histograms** show you the distribution of a numerical variable.\n",
    "\n",
    "Loan status will be a variable of interest throughout the lectures. Let's have a look at it's distribution."
   ]
  },
  {
   "cell_type": "code",
   "execution_count": 4,
   "metadata": {},
   "outputs": [
    {
     "data": {
      "image/png": "[encoded data removed]",
      "text/plain": [
       "<Figure size 432x288 with 1 Axes>"
      ]
     },
     "metadata": {
      "needs_background": "light"
     },
     "output_type": "display_data"
    }
   ],
   "source": [
    "sns.histplot(data=loans_df, x='loan_status');"
   ]
  },
  {
   "cell_type": "markdown",
   "metadata": {},
   "source": [
    "For our analysis we're not really interested in the ones with a `current` status. Let's drop this category."
   ]
  },
  {
   "cell_type": "code",
   "execution_count": 5,
   "metadata": {},
   "outputs": [
    {
     "data": {
      "text/plain": [
       "(126679, 16)"
      ]
     },
     "execution_count": 5,
     "metadata": {},
     "output_type": "execute_result"
    }
   ],
   "source": [
    "loans_df = loans_df[loans_df['loan_status'] != 'Current']\n",
    "loans_df.shape"
   ]
  },
  {
   "cell_type": "markdown",
   "metadata": {},
   "source": [
    "Coming back on our previous scatterplot. Do we have lot's of loans with late payments?"
   ]
  },
  {
   "cell_type": "code",
   "execution_count": 9,
   "metadata": {},
   "outputs": [
    {
     "data": {
      "image/png": "[encoded data removed]",
      "text/plain": [
       "<Figure size 432x288 with 1 Axes>"
      ]
     },
     "metadata": {
      "needs_background": "light"
     },
     "output_type": "display_data"
    }
   ],
   "source": [
    "sns.histplot(data=loans_df, x='total_rec_late_fee');"
   ]
  },
  {
   "cell_type": "markdown",
   "metadata": {},
   "source": [
    "Not superclear? Let's filter on late payments above $100 and check the late fees again"
   ]
  },
  {
   "cell_type": "code",
   "execution_count": 10,
   "metadata": {},
   "outputs": [
    {
     "data": {
      "image/png": "[encoded data removed]",
      "text/plain": [
       "<Figure size 432x288 with 1 Axes>"
      ]
     },
     "metadata": {
      "needs_background": "light"
     },
     "output_type": "display_data"
    }
   ],
   "source": [
    "late_df = loans_df[loans_df['total_rec_late_fee'] > 100]\n",
    "sns.histplot(data=late_df, x='total_rec_late_fee');"
   ]
  },
  {
   "cell_type": "markdown",
   "metadata": {},
   "source": [
    "#### Boxplots"
   ]
  },
  {
   "cell_type": "markdown",
   "metadata": {},
   "source": [
    "**Boxplots** are usefull to display the distribution of a numerical variable over multiple categories. In one quick glance it's easy to see how different values like median and spread are over these categories"
   ]
  },
  {
   "cell_type": "markdown",
   "metadata": {},
   "source": [
    "How are loans distributed over different situations of house ownership?"
   ]
  },
  {
   "cell_type": "code",
   "execution_count": 11,
   "metadata": {},
   "outputs": [
    {
     "data": {
      "image/png": "[encoded data removed]",
      "text/plain": [
       "<Figure size 432x288 with 1 Axes>"
      ]
     },
     "metadata": {
      "needs_background": "light"
     },
     "output_type": "display_data"
    }
   ],
   "source": [
    "sns.boxplot(data=loans_df, x='home_ownership', y = 'loan_amnt');"
   ]
  },
  {
   "cell_type": "markdown",
   "metadata": {},
   "source": [
    "What's the distribution of loan_amnt for the different purposes of loans?"
   ]
  },
  {
   "cell_type": "code",
   "execution_count": 12,
   "metadata": {},
   "outputs": [
    {
     "data": {
      "image/png": "[encoded data removed]",
      "text/plain": [
       "<Figure size 1440x432 with 1 Axes>"
      ]
     },
     "metadata": {
      "needs_background": "light"
     },
     "output_type": "display_data"
    }
   ],
   "source": [
    "plt.figure(figsize=(20,6))\n",
    "sns.boxplot(data=loans_df, x='purpose', y = 'loan_amnt');"
   ]
  },
  {
   "cell_type": "markdown",
   "metadata": {},
   "source": [
    "#### Bar charts"
   ]
  },
  {
   "cell_type": "markdown",
   "metadata": {},
   "source": [
    "**Boxplots** show us the distribution of multiple categories. They however don't tell us anything on how big these categories are. Here we can use bar charts (or countplots in seaborn)\n",
    "\n",
    "Let's plot the barcharts for the variables we used in the boxplots"
   ]
  },
  {
   "cell_type": "code",
   "execution_count": 13,
   "metadata": {},
   "outputs": [
    {
     "data": {
      "image/png": "[encoded data removed]",
      "text/plain": [
       "<Figure size 432x288 with 1 Axes>"
      ]
     },
     "metadata": {
      "needs_background": "light"
     },
     "output_type": "display_data"
    }
   ],
   "source": [
    "sns.countplot(data=loans_df, x='home_ownership');"
   ]
  },
  {
   "cell_type": "code",
   "execution_count": 14,
   "metadata": {},
   "outputs": [
    {
     "data": {
      "image/png": "[encoded data removed]",
      "text/plain": [
       "<Figure size 1440x432 with 1 Axes>"
      ]
     },
     "metadata": {
      "needs_background": "light"
     },
     "output_type": "display_data"
    }
   ],
   "source": [
    "plt.figure(figsize=(20,6))\n",
    "sns.countplot(data=loans_df, x='purpose');"
   ]
  },
  {
   "cell_type": "markdown",
   "metadata": {},
   "source": [
    "#### Lineplots"
   ]
  },
  {
   "cell_type": "markdown",
   "metadata": {},
   "source": [
    "Lineplots are generally used to display a value over time. We don't really have a time value here, besides maybe `emp_length` and `term`. If you check the types of the dataframe again you can see however that they are considered as an **object** by pandas which is the same as a string. This is because they mixed integers with strings.\n",
    "\n",
    "Let's check them further in detail to see if we can change them to suit us better"
   ]
  },
  {
   "cell_type": "markdown",
   "metadata": {},
   "source": [
    "Let's check how many values we have for `term`"
   ]
  },
  {
   "cell_type": "code",
   "execution_count": 15,
   "metadata": {},
   "outputs": [
    {
     "data": {
      "text/plain": [
       " 36 months    147483\n",
       " 60 months     60471\n",
       "Name: term, dtype: int64"
      ]
     },
     "execution_count": 15,
     "metadata": {},
     "output_type": "execute_result"
    }
   ],
   "source": [
    "loans_df.term.value_counts()"
   ]
  },
  {
   "cell_type": "markdown",
   "metadata": {},
   "source": [
    "And now for `emp_length`"
   ]
  },
  {
   "cell_type": "code",
   "execution_count": 16,
   "metadata": {},
   "outputs": [
    {
     "data": {
      "text/plain": [
       "10 year    73759\n",
       "2 year     20119\n",
       "0 year     18595\n",
       "3 year     17868\n",
       "1 year     14526\n",
       "5 year     13592\n",
       "4 year     13260\n",
       "6 year     10035\n",
       "7 year      9172\n",
       "8 year      9046\n",
       "9 year      7982\n",
       "Name: emp_length, dtype: int64"
      ]
     },
     "execution_count": 16,
     "metadata": {},
     "output_type": "execute_result"
    }
   ],
   "source": [
    "loans_df.emp_length.value_counts()"
   ]
  },
  {
   "cell_type": "markdown",
   "metadata": {},
   "source": [
    "`term` only has two values, meaning it's a **binary** column. We'll learn how to handle this later throughout the classes.\n",
    "\n",
    "`emp_length` has a lot more though. Here it makes sense to remove the text so that we can consider this one as a numerical column."
   ]
  },
  {
   "cell_type": "markdown",
   "metadata": {},
   "source": [
    "We can use the **.str** method to use string methods on the column. We can then use the `.replace()` method to replace `' year'` with nothing and hence making it a numerical column."
   ]
  },
  {
   "cell_type": "code",
   "execution_count": 17,
   "metadata": {},
   "outputs": [
    {
     "data": {
      "text/plain": [
       "<pandas.core.strings.accessor.StringMethods at 0x14f2eafa0>"
      ]
     },
     "execution_count": 17,
     "metadata": {},
     "output_type": "execute_result"
    }
   ],
   "source": [
    "loans_df.emp_length.str"
   ]
  },
  {
   "cell_type": "code",
   "execution_count": 18,
   "metadata": {},
   "outputs": [
    {
     "data": {
      "text/plain": [
       "0          5 year\n",
       "1         10 year\n",
       "2          5 year\n",
       "3          1 year\n",
       "4         10 year\n",
       "           ...   \n",
       "207949    10 year\n",
       "207950     2 year\n",
       "207951     5 year\n",
       "207952     2 year\n",
       "207953    10 year\n",
       "Name: emp_length, Length: 207954, dtype: object"
      ]
     },
     "execution_count": 18,
     "metadata": {},
     "output_type": "execute_result"
    }
   ],
   "source": [
    "loans_df.emp_length.str.replace(' years', '')"
   ]
  },
  {
   "cell_type": "markdown",
   "metadata": {},
   "source": [
    "Let's now chain this structure multiple times to clear out all the string values"
   ]
  },
  {
   "cell_type": "code",
   "execution_count": 19,
   "metadata": {},
   "outputs": [],
   "source": [
    "loans_df['emp_length'] = loans_df.emp_length.str.replace(' year', '')"
   ]
  },
  {
   "cell_type": "markdown",
   "metadata": {},
   "source": [
    "We can then use `.astype()` to change the column to an integer"
   ]
  },
  {
   "cell_type": "code",
   "execution_count": 20,
   "metadata": {},
   "outputs": [],
   "source": [
    "loans_df['emp_length'] = loans_df.emp_length.astype('int')"
   ]
  },
  {
   "cell_type": "markdown",
   "metadata": {},
   "source": [
    "Now let's recheck the types to see if our changes helped"
   ]
  },
  {
   "cell_type": "code",
   "execution_count": 21,
   "metadata": {},
   "outputs": [
    {
     "data": {
      "text/plain": [
       "Unnamed: 0              int64\n",
       "id                      int64\n",
       "loan_amnt             float64\n",
       "term                   object\n",
       "int_rate              float64\n",
       "installment           float64\n",
       "grade                  object\n",
       "sub_grade              object\n",
       "emp_length              int64\n",
       "home_ownership         object\n",
       "annual_inc            float64\n",
       "addr_state             object\n",
       "dti                   float64\n",
       "total_rec_late_fee    float64\n",
       "purpose                object\n",
       "loan_status            object\n",
       "dtype: object"
      ]
     },
     "execution_count": 21,
     "metadata": {},
     "output_type": "execute_result"
    }
   ],
   "source": [
    "loans_df.dtypes"
   ]
  },
  {
   "cell_type": "markdown",
   "metadata": {},
   "source": [
    "Now let's plot our lineplot to see if we give bigger loans to people who are longer in employment"
   ]
  },
  {
   "cell_type": "code",
   "execution_count": 22,
   "metadata": {},
   "outputs": [
    {
     "data": {
      "image/png": "[encoded data removed]",
      "text/plain": [
       "<Figure size 432x288 with 1 Axes>"
      ]
     },
     "metadata": {
      "needs_background": "light"
     },
     "output_type": "display_data"
    }
   ],
   "source": [
    "sns.lineplot(data=loans_df, x='emp_length', y='loan_amnt');"
   ]
  },
  {
   "cell_type": "markdown",
   "metadata": {},
   "source": [
    "The lineplot will give us the average loan amount per year in employment. Not convinced? Let's manually group our dataframe by `emp_length` and take the `mean` of the loan amount. We can then use the built-in pandas-method `.plot()` to show a line plot."
   ]
  },
  {
   "cell_type": "code",
   "execution_count": 23,
   "metadata": {},
   "outputs": [
    {
     "data": {
      "image/png": "[encoded data removed]",
      "text/plain": [
       "<Figure size 432x288 with 1 Axes>"
      ]
     },
     "metadata": {
      "needs_background": "light"
     },
     "output_type": "display_data"
    }
   ],
   "source": [
    "loans_df.groupby('emp_length')[['loan_amnt']].mean().plot();"
   ]
  },
  {
   "cell_type": "markdown",
   "metadata": {},
   "source": [
    "#### Save csv"
   ]
  },
  {
   "cell_type": "markdown",
   "metadata": {},
   "source": [
    "Save the csv for further use throughout the classes"
   ]
  },
  {
   "cell_type": "code",
   "execution_count": 40,
   "metadata": {},
   "outputs": [],
   "source": [
    "loans_df.to_csv('../data/loans_day1.csv')"
   ]
  },
  {
   "cell_type": "markdown",
   "metadata": {},
   "source": []
  }
 ],
 "metadata": {
  "kernelspec": {
   "display_name": "Python 3.8.12 64-bit ('dforb')",
   "language": "python",
   "name": "python3"
  },
  "language_info": {
   "codemirror_mode": {
    "name": "ipython",
    "version": 3
   },
   "file_extension": ".py",
   "mimetype": "text/x-python",
   "name": "python",
   "nbconvert_exporter": "python",
   "pygments_lexer": "ipython3",
   "version": "3.8.12"
  },
  "orig_nbformat": 4,
  "vscode": {
   "interpreter": {
    "hash": "0e9ae77a68d479a28967a79b3dd1a040f581e32c13de9b5e9a3a6cf002e7768e"
   }
  }
 },
 "nbformat": 4,
 "nbformat_minor": 2
}
