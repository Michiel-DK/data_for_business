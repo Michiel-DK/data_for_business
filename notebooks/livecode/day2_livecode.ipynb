{
 "cells": [
  {
   "cell_type": "markdown",
   "metadata": {},
   "source": [
    "### Import libraries"
   ]
  },
  {
   "cell_type": "code",
   "execution_count": 1,
   "metadata": {},
   "outputs": [],
   "source": [
    "import pandas as pd\n",
    "import requests\n",
    "from bs4 import BeautifulSoup\n",
    "import numpy as np"
   ]
  },
  {
   "cell_type": "markdown",
   "metadata": {},
   "source": [
    "### CSV"
   ]
  },
  {
   "cell_type": "markdown",
   "metadata": {},
   "source": [
    "We have some user-specific data on which we want to add new information. In the end we should have our user data \n",
    "enhanced with the per capita income on a county level which can be found here:\n",
    "https://en.wikipedia.org/wiki/List_of_United_States_counties_by_per_capita_income"
   ]
  },
  {
   "cell_type": "markdown",
   "metadata": {},
   "source": [
    "Let's first import our csv containing all adresses and check a our df a bit in detail"
   ]
  },
  {
   "cell_type": "code",
   "execution_count": null,
   "metadata": {},
   "outputs": [],
   "source": [
    "# YOUR CODE HERE"
   ]
  },
  {
   "cell_type": "markdown",
   "metadata": {},
   "source": [
    "<details>\n",
    "    <summary>🙈 Reveal solution</summary>\n",
    "\n",
    "<p>\n",
    "<pre>\n",
    "full_df = pd.read_csv('../../data/adresses_day2.csv', index_col=0)\n",
    "</pre>\n",
    "</p>\n",
    "</details>"
   ]
  },
  {
   "cell_type": "code",
   "execution_count": null,
   "metadata": {},
   "outputs": [],
   "source": [
    "# YOUR CODE HERE"
   ]
  },
  {
   "cell_type": "markdown",
   "metadata": {},
   "source": [
    "<details>\n",
    "    <summary>🙈 Reveal solution</summary>\n",
    "\n",
    "<p>\n",
    "<pre>\n",
    "full_df.shape\n",
    "full_df.head()\n",
    "full_df.describe()\n",
    "..\n",
    "</pre>\n",
    "</p>\n",
    "</details>"
   ]
  },
  {
   "cell_type": "markdown",
   "metadata": {},
   "source": [
    "If we check our null values we see that we're missing quite some data. Also the data is not on the county level. "
   ]
  },
  {
   "cell_type": "code",
   "execution_count": null,
   "metadata": {},
   "outputs": [],
   "source": [
    "# YOUR CODE HERE"
   ]
  },
  {
   "cell_type": "markdown",
   "metadata": {},
   "source": [
    "<details>\n",
    "    <summary>🙈 Reveal solution</summary>\n",
    "\n",
    "<p>\n",
    "<pre>\n",
    "full_df.isnull().sum()/len(full_df)\n",
    "</pre>\n",
    "</p>\n",
    "</details>"
   ]
  },
  {
   "cell_type": "markdown",
   "metadata": {},
   "source": [
    "### API"
   ]
  },
  {
   "cell_type": "markdown",
   "metadata": {},
   "source": [
    "The great part is however that the latitude and lonitude are present in all row. So we can use an API to get the county data with these lat and lon columns\n",
    "\n",
    "Documentation:\n",
    "https://nominatim.org/release-docs/develop/api/Overview/\n",
    "\n",
    "Looking at the documentation we spot that we need to use the **endpoint /reverse**\n",
    "\n",
    "https://nominatim.org/release-docs/develop/api/Reverse/"
   ]
  },
  {
   "cell_type": "markdown",
   "metadata": {},
   "source": [
    "Let's construct our URL based on this information:"
   ]
  },
  {
   "cell_type": "code",
   "execution_count": null,
   "metadata": {},
   "outputs": [],
   "source": [
    "# YOUR CODE HERE"
   ]
  },
  {
   "cell_type": "markdown",
   "metadata": {},
   "source": [
    "<details>\n",
    "    <summary>🙈 Reveal solution</summary>\n",
    "\n",
    "<p>\n",
    "<pre>\n",
    "base_url = 'https://nominatim.openstreetmap.org'\n",
    "\n",
    "endpoint = '/reverse'\n",
    "\n",
    "full_url = base_url + endpoint\n",
    "\n",
    "full_url\n",
    "</pre>\n",
    "</p>\n",
    "</details>"
   ]
  },
  {
   "cell_type": "markdown",
   "metadata": {},
   "source": [
    "We have three params we could use namely **lat** and **lon**, which we will get from our DF, and **format** which will be fixed on json"
   ]
  },
  {
   "cell_type": "markdown",
   "metadata": {},
   "source": [
    "Let's create a function that will send a *GET-request* for a given LAT and LON value and return the county"
   ]
  },
  {
   "cell_type": "code",
   "execution_count": null,
   "metadata": {},
   "outputs": [],
   "source": [
    "# YOUR CODE HERE"
   ]
  },
  {
   "cell_type": "markdown",
   "metadata": {},
   "source": [
    "<details>\n",
    "    <summary>🙈 Reveal solution</summary>\n",
    "\n",
    "<p>\n",
    "<pre>\n",
    "import numpy as np\n",
    "\n",
    "def get_county(lon, lat):\n",
    "    \n",
    "    #define params\n",
    "    params = {\n",
    "        'lat': lat,\n",
    "        'lon' : lon,\n",
    "        'format' : 'json'\n",
    "    }\n",
    "    \n",
    "    #send get request\n",
    "    response = requests.get(full_url, params).json()\n",
    "    \n",
    "    #go through dictionary to get to the county\n",
    "    if 'county' in response['address'].keys():\n",
    "        county = response['address']['county']\n",
    "        \n",
    "        #replace county for wikipedia mach\n",
    "        county_clean = county.replace(' County', '')\n",
    "    else:\n",
    "        county_clean = np.nan    \n",
    "    \n",
    "    #return county_clean\n",
    "    return county_clean\n",
    "</pre>\n",
    "</p>\n",
    "</details>"
   ]
  },
  {
   "cell_type": "markdown",
   "metadata": {},
   "source": [
    "We can now use this function and the **.iterrows()** method to loop over our DF and create an extra columns with the county"
   ]
  },
  {
   "cell_type": "code",
   "execution_count": null,
   "metadata": {},
   "outputs": [],
   "source": [
    "# YOUR CODE HERE"
   ]
  },
  {
   "cell_type": "markdown",
   "metadata": {},
   "source": [
    "<details>\n",
    "    <summary>🙈 Reveal solution</summary>\n",
    "\n",
    "<p>\n",
    "<pre>\n",
    "county_ls = []\n",
    "\n",
    "for index, row in full_df.iterrows():\n",
    "    county = get_county(row['LON'], row['LAT'])\n",
    "    county_ls.append(county)\n",
    "</pre>\n",
    "</p>\n",
    "</details>"
   ]
  },
  {
   "cell_type": "markdown",
   "metadata": {},
   "source": [
    "Now can add a new column with the county data"
   ]
  },
  {
   "cell_type": "code",
   "execution_count": null,
   "metadata": {},
   "outputs": [],
   "source": [
    "# YOUR CODE HERE"
   ]
  },
  {
   "cell_type": "markdown",
   "metadata": {},
   "source": [
    "<details>\n",
    "    <summary>🙈 Reveal solution</summary>\n",
    "\n",
    "<p>\n",
    "<pre>\n",
    "full_df['county'] = county_ls\n",
    "full_df.county.value_counts()\n",
    "</pre>\n",
    "</p>\n",
    "</details>"
   ]
  },
  {
   "cell_type": "markdown",
   "metadata": {},
   "source": [
    "### Scraping"
   ]
  },
  {
   "cell_type": "markdown",
   "metadata": {},
   "source": [
    "We can use these counties now to get the Per Capita Income\n",
    "\n",
    "Let's first get a list of all unique counties in our dataset"
   ]
  },
  {
   "cell_type": "code",
   "execution_count": null,
   "metadata": {},
   "outputs": [],
   "source": [
    "# YOUR CODE HERE"
   ]
  },
  {
   "cell_type": "markdown",
   "metadata": {},
   "source": [
    "<details>\n",
    "    <summary>🙈 Reveal solution</summary>\n",
    "\n",
    "<p>\n",
    "<pre>\n",
    "counties = full_df.county.unique()\n",
    "counties\n",
    "</pre>\n",
    "</p>\n",
    "</details>"
   ]
  },
  {
   "cell_type": "markdown",
   "metadata": {},
   "source": [
    "Let's inspect our webpage and try to identidy a unique class we could scrape "
   ]
  },
  {
   "cell_type": "code",
   "execution_count": null,
   "metadata": {},
   "outputs": [],
   "source": [
    "# YOUR CODE HERE"
   ]
  },
  {
   "cell_type": "markdown",
   "metadata": {},
   "source": [
    "<details>\n",
    "    <summary>🙈 Reveal solution</summary>\n",
    "\n",
    "<p>\n",
    "<pre>\n",
    "url_to_scrape = 'https://en.wikipedia.org/wiki/List_of_United_States_counties_by_per_capita_income'\n",
    "\n",
    "content = requests.get(url_to_scrape).content\n",
    "\n",
    "soup = BeautifulSoup(content)\n",
    "</pre>\n",
    "</p>\n",
    "</details>"
   ]
  },
  {
   "cell_type": "markdown",
   "metadata": {},
   "source": [
    "wikitable is the one we need"
   ]
  },
  {
   "cell_type": "code",
   "execution_count": null,
   "metadata": {},
   "outputs": [],
   "source": [
    "# YOUR CODE HERE"
   ]
  },
  {
   "cell_type": "markdown",
   "metadata": {},
   "source": [
    "<details>\n",
    "    <summary>🙈 Reveal solution</summary>\n",
    "\n",
    "<p>\n",
    "<pre>\n",
    "table = soup.find('table', class_='wikitable')\n",
    "</pre>\n",
    "</p>\n",
    "</details>"
   ]
  },
  {
   "cell_type": "markdown",
   "metadata": {},
   "source": [
    "Inside this table we can use **.find_all()** to get all the **tr** elements. We should get a list of all table elements."
   ]
  },
  {
   "cell_type": "code",
   "execution_count": null,
   "metadata": {},
   "outputs": [],
   "source": [
    "# YOUR CODE HERE"
   ]
  },
  {
   "cell_type": "markdown",
   "metadata": {},
   "source": [
    "<details>\n",
    "    <summary>🙈 Reveal solution</summary>\n",
    "\n",
    "<p>\n",
    "<pre>\n",
    "trs = table.find_all('tr')\n",
    "</pre>\n",
    "</p>\n",
    "</details>"
   ]
  },
  {
   "cell_type": "markdown",
   "metadata": {},
   "source": [
    "Check the first **tr** element and try to figure out how we could get the necessary information out of this.\n",
    "\n",
    "Watch out for the headers and attribute errors"
   ]
  },
  {
   "cell_type": "code",
   "execution_count": null,
   "metadata": {},
   "outputs": [],
   "source": [
    "# YOUR CODE HERE"
   ]
  },
  {
   "cell_type": "markdown",
   "metadata": {},
   "source": [
    "<details>\n",
    "    <summary>🙈 Reveal solution</summary>\n",
    "\n",
    "<p>\n",
    "<pre>\n",
    "cap_dict = {}\n",
    "\n",
    "for row in trs[1:]:\n",
    "    try:\n",
    "        county = row.a.text\n",
    "        per_capita = row.find_all('td')[3].text\n",
    "        per_capita_stripped = int(per_capita.lstrip('$').replace(',',''))\n",
    "        cap_dict[county] = per_capita_stripped\n",
    "    except AttributeError:\n",
    "        pass\n",
    "        \n",
    "</pre>\n",
    "</p>\n",
    "</details>"
   ]
  },
  {
   "cell_type": "markdown",
   "metadata": {},
   "source": [
    "We can now use the .map() function to enrich our dataset"
   ]
  },
  {
   "cell_type": "code",
   "execution_count": null,
   "metadata": {},
   "outputs": [],
   "source": [
    "# YOUR CODE HERE"
   ]
  },
  {
   "cell_type": "markdown",
   "metadata": {},
   "source": [
    "<details>\n",
    "    <summary>🙈 Reveal solution</summary>\n",
    "\n",
    "<p>\n",
    "<pre>\n",
    "full_df['per_capita'] = full_df.county.map(cap_dict)\n",
    "</pre>\n",
    "</p>\n",
    "</details>"
   ]
  },
  {
   "cell_type": "code",
   "execution_count": null,
   "metadata": {},
   "outputs": [],
   "source": []
  }
 ],
 "metadata": {
  "interpreter": {
   "hash": "63305f572d39f1f057a29d6f90b97f50226f939806bf67798e7b1d2d4622b84a"
  },
  "kernelspec": {
   "display_name": "Python 3.8.12 64-bit ('lewagon')",
   "language": "python",
   "name": "python3"
  },
  "language_info": {
   "codemirror_mode": {
    "name": "ipython",
    "version": 3
   },
   "file_extension": ".py",
   "mimetype": "text/x-python",
   "name": "python",
   "nbconvert_exporter": "python",
   "pygments_lexer": "ipython3",
   "version": "3.8.12"
  },
  "orig_nbformat": 4
 },
 "nbformat": 4,
 "nbformat_minor": 2
}
