{
 "cells": [
  {
   "cell_type": "code",
   "execution_count": 3,
   "id": "920d3565",
   "metadata": {},
   "outputs": [
    {
     "name": "stdout",
     "output_type": "stream",
     "text": [
      "['John', 'Doe', '120 jefferson st.', 'Riverside', 'NJ', '08075']\n",
      "['Jack', 'McGinnis', '220 hobo Av.', 'Phila', 'PA', '09119']\n",
      "['John \"Da Man\"', 'Repici', '120 Jefferson St.', 'Riverside', 'NJ', '08075']\n",
      "['Stephen', 'Tyler', '7452 Terrace \"At the Plaza\" road', 'SomeTown', 'SD', '91234']\n",
      "['', 'Blankman', '', 'SomeTown', 'SD', '00298']\n",
      "['Joan \"the bone\", Anne', 'Jet', '9th, at Terrace plc', 'Desert City', 'CO', '00123']\n"
     ]
    }
   ],
   "source": [
    "import csv\n",
    "\n",
    "with open('../data/addresses.csv') as csvfile:\n",
    "    reader = csv.reader(csvfile, skipinitialspace=True)\n",
    "    for row in reader:\n",
    "        print(row)"
   ]
  },
  {
   "cell_type": "code",
   "execution_count": 9,
   "id": "15cf2d7e",
   "metadata": {},
   "outputs": [
    {
     "data": {
      "text/html": [
       "<div>\n",
       "<style scoped>\n",
       "    .dataframe tbody tr th:only-of-type {\n",
       "        vertical-align: middle;\n",
       "    }\n",
       "\n",
       "    .dataframe tbody tr th {\n",
       "        vertical-align: top;\n",
       "    }\n",
       "\n",
       "    .dataframe thead th {\n",
       "        text-align: right;\n",
       "    }\n",
       "</style>\n",
       "<table border=\"1\" class=\"dataframe\">\n",
       "  <thead>\n",
       "    <tr style=\"text-align: right;\">\n",
       "      <th></th>\n",
       "      <th>0</th>\n",
       "      <th>1</th>\n",
       "      <th>2</th>\n",
       "      <th>3</th>\n",
       "      <th>4</th>\n",
       "      <th>5</th>\n",
       "    </tr>\n",
       "  </thead>\n",
       "  <tbody>\n",
       "    <tr>\n",
       "      <th>0</th>\n",
       "      <td>John</td>\n",
       "      <td>Doe</td>\n",
       "      <td>120 jefferson st.</td>\n",
       "      <td>Riverside</td>\n",
       "      <td>NJ</td>\n",
       "      <td>8075</td>\n",
       "    </tr>\n",
       "    <tr>\n",
       "      <th>1</th>\n",
       "      <td>Jack</td>\n",
       "      <td>McGinnis</td>\n",
       "      <td>220 hobo Av.</td>\n",
       "      <td>Phila</td>\n",
       "      <td>PA</td>\n",
       "      <td>9119</td>\n",
       "    </tr>\n",
       "    <tr>\n",
       "      <th>2</th>\n",
       "      <td>John \"Da Man\"</td>\n",
       "      <td>Repici</td>\n",
       "      <td>120 Jefferson St.</td>\n",
       "      <td>Riverside</td>\n",
       "      <td>NJ</td>\n",
       "      <td>8075</td>\n",
       "    </tr>\n",
       "    <tr>\n",
       "      <th>3</th>\n",
       "      <td>Stephen</td>\n",
       "      <td>Tyler</td>\n",
       "      <td>7452 Terrace \"At the Plaza\" road</td>\n",
       "      <td>SomeTown</td>\n",
       "      <td>SD</td>\n",
       "      <td>91234</td>\n",
       "    </tr>\n",
       "    <tr>\n",
       "      <th>4</th>\n",
       "      <td>NaN</td>\n",
       "      <td>Blankman</td>\n",
       "      <td>NaN</td>\n",
       "      <td>SomeTown</td>\n",
       "      <td>SD</td>\n",
       "      <td>298</td>\n",
       "    </tr>\n",
       "    <tr>\n",
       "      <th>5</th>\n",
       "      <td>Joan \"the bone\", Anne</td>\n",
       "      <td>Jet</td>\n",
       "      <td>9th, at Terrace plc</td>\n",
       "      <td>Desert City</td>\n",
       "      <td>CO</td>\n",
       "      <td>123</td>\n",
       "    </tr>\n",
       "  </tbody>\n",
       "</table>\n",
       "</div>"
      ],
      "text/plain": [
       "                       0         1                                 2  \\\n",
       "0                   John       Doe                 120 jefferson st.   \n",
       "1                   Jack  McGinnis                      220 hobo Av.   \n",
       "2          John \"Da Man\"    Repici                 120 Jefferson St.   \n",
       "3                Stephen     Tyler  7452 Terrace \"At the Plaza\" road   \n",
       "4                    NaN  Blankman                               NaN   \n",
       "5  Joan \"the bone\", Anne       Jet               9th, at Terrace plc   \n",
       "\n",
       "             3    4      5  \n",
       "0    Riverside   NJ   8075  \n",
       "1        Phila   PA   9119  \n",
       "2    Riverside   NJ   8075  \n",
       "3     SomeTown   SD  91234  \n",
       "4     SomeTown   SD    298  \n",
       "5  Desert City   CO    123  "
      ]
     },
     "execution_count": 9,
     "metadata": {},
     "output_type": "execute_result"
    }
   ],
   "source": [
    "import pandas as pd\n",
    "\n",
    "pd.read_csv('../data/addresses.csv', header=None)"
   ]
  },
  {
   "cell_type": "code",
   "execution_count": 7,
   "id": "5db8f2df",
   "metadata": {},
   "outputs": [
    {
     "name": "stdout",
     "output_type": "stream",
     "text": [
      "{'Name': 'Alex', 'Sex': 'M', 'Age': '41', 'Height (in)': '74', 'Weight (lbs)': '170'}\n",
      "{'Name': 'Bert', 'Sex': 'M', 'Age': '42', 'Height (in)': '68', 'Weight (lbs)': '166'}\n",
      "{'Name': 'Carl', 'Sex': 'M', 'Age': '32', 'Height (in)': '70', 'Weight (lbs)': '155'}\n",
      "{'Name': 'Dave', 'Sex': 'M', 'Age': '39', 'Height (in)': '72', 'Weight (lbs)': '167'}\n",
      "{'Name': 'Elly', 'Sex': 'F', 'Age': '30', 'Height (in)': '66', 'Weight (lbs)': '124'}\n",
      "{'Name': 'Fran', 'Sex': 'F', 'Age': '33', 'Height (in)': '66', 'Weight (lbs)': '115'}\n",
      "{'Name': 'Gwen', 'Sex': 'F', 'Age': '26', 'Height (in)': '64', 'Weight (lbs)': '121'}\n",
      "{'Name': 'Hank', 'Sex': 'M', 'Age': '30', 'Height (in)': '71', 'Weight (lbs)': '158'}\n",
      "{'Name': 'Ivan', 'Sex': 'M', 'Age': '53', 'Height (in)': '72', 'Weight (lbs)': '175'}\n",
      "{'Name': 'Jake', 'Sex': 'M', 'Age': '32', 'Height (in)': '69', 'Weight (lbs)': '143'}\n",
      "{'Name': 'Kate', 'Sex': 'F', 'Age': '47', 'Height (in)': '69', 'Weight (lbs)': '139'}\n",
      "{'Name': 'Luke', 'Sex': 'M', 'Age': '34', 'Height (in)': '72', 'Weight (lbs)': '163'}\n",
      "{'Name': 'Myra', 'Sex': 'F', 'Age': '23', 'Height (in)': '62', 'Weight (lbs)': '98'}\n",
      "{'Name': 'Neil', 'Sex': 'M', 'Age': '36', 'Height (in)': '75', 'Weight (lbs)': '160'}\n",
      "{'Name': 'Omar', 'Sex': 'M', 'Age': '38', 'Height (in)': '70', 'Weight (lbs)': '145'}\n",
      "{'Name': 'Page', 'Sex': 'F', 'Age': '31', 'Height (in)': '67', 'Weight (lbs)': '135'}\n",
      "{'Name': 'Quin', 'Sex': 'M', 'Age': '29', 'Height (in)': '71', 'Weight (lbs)': '176'}\n",
      "{'Name': 'Ruth', 'Sex': 'F', 'Age': '28', 'Height (in)': '65', 'Weight (lbs)': '131'}\n"
     ]
    }
   ],
   "source": [
    "import csv\n",
    "\n",
    "with open('../data/biostats.csv') as csvfile:\n",
    "    reader = csv.DictReader(csvfile, skipinitialspace=True)\n",
    "    for row in reader:\n",
    "        print(row)"
   ]
  },
  {
   "cell_type": "code",
   "execution_count": 13,
   "id": "5a93de27",
   "metadata": {},
   "outputs": [
    {
     "data": {
      "text/html": [
       "<div>\n",
       "<style scoped>\n",
       "    .dataframe tbody tr th:only-of-type {\n",
       "        vertical-align: middle;\n",
       "    }\n",
       "\n",
       "    .dataframe tbody tr th {\n",
       "        vertical-align: top;\n",
       "    }\n",
       "\n",
       "    .dataframe thead th {\n",
       "        text-align: right;\n",
       "    }\n",
       "</style>\n",
       "<table border=\"1\" class=\"dataframe\">\n",
       "  <thead>\n",
       "    <tr style=\"text-align: right;\">\n",
       "      <th></th>\n",
       "      <th>Name</th>\n",
       "      <th>\"Sex\"</th>\n",
       "      <th>\"Age\"</th>\n",
       "      <th>\"Height (in)\"</th>\n",
       "      <th>\"Weight (lbs)\"</th>\n",
       "    </tr>\n",
       "  </thead>\n",
       "  <tbody>\n",
       "    <tr>\n",
       "      <th>0</th>\n",
       "      <td>Alex</td>\n",
       "      <td>\"M\"</td>\n",
       "      <td>41</td>\n",
       "      <td>74</td>\n",
       "      <td>170</td>\n",
       "    </tr>\n",
       "    <tr>\n",
       "      <th>1</th>\n",
       "      <td>Bert</td>\n",
       "      <td>\"M\"</td>\n",
       "      <td>42</td>\n",
       "      <td>68</td>\n",
       "      <td>166</td>\n",
       "    </tr>\n",
       "    <tr>\n",
       "      <th>2</th>\n",
       "      <td>Carl</td>\n",
       "      <td>\"M\"</td>\n",
       "      <td>32</td>\n",
       "      <td>70</td>\n",
       "      <td>155</td>\n",
       "    </tr>\n",
       "    <tr>\n",
       "      <th>3</th>\n",
       "      <td>Dave</td>\n",
       "      <td>\"M\"</td>\n",
       "      <td>39</td>\n",
       "      <td>72</td>\n",
       "      <td>167</td>\n",
       "    </tr>\n",
       "    <tr>\n",
       "      <th>4</th>\n",
       "      <td>Elly</td>\n",
       "      <td>\"F\"</td>\n",
       "      <td>30</td>\n",
       "      <td>66</td>\n",
       "      <td>124</td>\n",
       "    </tr>\n",
       "    <tr>\n",
       "      <th>5</th>\n",
       "      <td>Fran</td>\n",
       "      <td>\"F\"</td>\n",
       "      <td>33</td>\n",
       "      <td>66</td>\n",
       "      <td>115</td>\n",
       "    </tr>\n",
       "    <tr>\n",
       "      <th>6</th>\n",
       "      <td>Gwen</td>\n",
       "      <td>\"F\"</td>\n",
       "      <td>26</td>\n",
       "      <td>64</td>\n",
       "      <td>121</td>\n",
       "    </tr>\n",
       "    <tr>\n",
       "      <th>7</th>\n",
       "      <td>Hank</td>\n",
       "      <td>\"M\"</td>\n",
       "      <td>30</td>\n",
       "      <td>71</td>\n",
       "      <td>158</td>\n",
       "    </tr>\n",
       "    <tr>\n",
       "      <th>8</th>\n",
       "      <td>Ivan</td>\n",
       "      <td>\"M\"</td>\n",
       "      <td>53</td>\n",
       "      <td>72</td>\n",
       "      <td>175</td>\n",
       "    </tr>\n",
       "    <tr>\n",
       "      <th>9</th>\n",
       "      <td>Jake</td>\n",
       "      <td>\"M\"</td>\n",
       "      <td>32</td>\n",
       "      <td>69</td>\n",
       "      <td>143</td>\n",
       "    </tr>\n",
       "    <tr>\n",
       "      <th>10</th>\n",
       "      <td>Kate</td>\n",
       "      <td>\"F\"</td>\n",
       "      <td>47</td>\n",
       "      <td>69</td>\n",
       "      <td>139</td>\n",
       "    </tr>\n",
       "    <tr>\n",
       "      <th>11</th>\n",
       "      <td>Luke</td>\n",
       "      <td>\"M\"</td>\n",
       "      <td>34</td>\n",
       "      <td>72</td>\n",
       "      <td>163</td>\n",
       "    </tr>\n",
       "    <tr>\n",
       "      <th>12</th>\n",
       "      <td>Myra</td>\n",
       "      <td>\"F\"</td>\n",
       "      <td>23</td>\n",
       "      <td>62</td>\n",
       "      <td>98</td>\n",
       "    </tr>\n",
       "    <tr>\n",
       "      <th>13</th>\n",
       "      <td>Neil</td>\n",
       "      <td>\"M\"</td>\n",
       "      <td>36</td>\n",
       "      <td>75</td>\n",
       "      <td>160</td>\n",
       "    </tr>\n",
       "    <tr>\n",
       "      <th>14</th>\n",
       "      <td>Omar</td>\n",
       "      <td>\"M\"</td>\n",
       "      <td>38</td>\n",
       "      <td>70</td>\n",
       "      <td>145</td>\n",
       "    </tr>\n",
       "    <tr>\n",
       "      <th>15</th>\n",
       "      <td>Page</td>\n",
       "      <td>\"F\"</td>\n",
       "      <td>31</td>\n",
       "      <td>67</td>\n",
       "      <td>135</td>\n",
       "    </tr>\n",
       "    <tr>\n",
       "      <th>16</th>\n",
       "      <td>Quin</td>\n",
       "      <td>\"M\"</td>\n",
       "      <td>29</td>\n",
       "      <td>71</td>\n",
       "      <td>176</td>\n",
       "    </tr>\n",
       "    <tr>\n",
       "      <th>17</th>\n",
       "      <td>Ruth</td>\n",
       "      <td>\"F\"</td>\n",
       "      <td>28</td>\n",
       "      <td>65</td>\n",
       "      <td>131</td>\n",
       "    </tr>\n",
       "  </tbody>\n",
       "</table>\n",
       "</div>"
      ],
      "text/plain": [
       "    Name       \"Sex\"   \"Age\"   \"Height (in)\"   \"Weight (lbs)\"\n",
       "0   Alex         \"M\"      41              74              170\n",
       "1   Bert         \"M\"      42              68              166\n",
       "2   Carl         \"M\"      32              70              155\n",
       "3   Dave         \"M\"      39              72              167\n",
       "4   Elly         \"F\"      30              66              124\n",
       "5   Fran         \"F\"      33              66              115\n",
       "6   Gwen         \"F\"      26              64              121\n",
       "7   Hank         \"M\"      30              71              158\n",
       "8   Ivan         \"M\"      53              72              175\n",
       "9   Jake         \"M\"      32              69              143\n",
       "10  Kate         \"F\"      47              69              139\n",
       "11  Luke         \"M\"      34              72              163\n",
       "12  Myra         \"F\"      23              62               98\n",
       "13  Neil         \"M\"      36              75              160\n",
       "14  Omar         \"M\"      38              70              145\n",
       "15  Page         \"F\"      31              67              135\n",
       "16  Quin         \"M\"      29              71              176\n",
       "17  Ruth         \"F\"      28              65              131"
      ]
     },
     "execution_count": 13,
     "metadata": {},
     "output_type": "execute_result"
    }
   ],
   "source": [
    "import pandas as pd\n",
    "\n",
    "pd.read_csv('../data/biostats.csv')"
   ]
  },
  {
   "cell_type": "code",
   "execution_count": 20,
   "id": "85d802c1",
   "metadata": {},
   "outputs": [
    {
     "name": "stdout",
     "output_type": "stream",
     "text": [
      "{'login': 'ssaunier', 'id': 414418, 'node_id': 'MDQ6VXNlcjQxNDQxOA==', 'avatar_url': 'https://avatars.githubusercontent.com/u/414418?v=4', 'gravatar_id': '', 'url': 'https://api.github.com/users/ssaunier', 'html_url': 'https://github.com/ssaunier', 'followers_url': 'https://api.github.com/users/ssaunier/followers', 'following_url': 'https://api.github.com/users/ssaunier/following{/other_user}', 'gists_url': 'https://api.github.com/users/ssaunier/gists{/gist_id}', 'starred_url': 'https://api.github.com/users/ssaunier/starred{/owner}{/repo}', 'subscriptions_url': 'https://api.github.com/users/ssaunier/subscriptions', 'organizations_url': 'https://api.github.com/users/ssaunier/orgs', 'repos_url': 'https://api.github.com/users/ssaunier/repos', 'events_url': 'https://api.github.com/users/ssaunier/events{/privacy}', 'received_events_url': 'https://api.github.com/users/ssaunier/received_events', 'type': 'User', 'site_admin': False, 'name': 'Sébastien Saunier', 'company': 'CTO & Co-Founder @lewagon', 'blog': 'https://www.lewagon.com', 'location': 'France', 'email': None, 'hireable': None, 'bio': 'Teaching code to creative people.', 'twitter_username': None, 'public_repos': 145, 'public_gists': 67, 'followers': 1978, 'following': 203, 'created_at': '2010-09-24T13:31:21Z', 'updated_at': '2022-05-29T16:13:53Z'}\n"
     ]
    }
   ],
   "source": [
    "import requests\n",
    "\n",
    "url = 'https://api.github.com/search/repositories?q=created:\">2018-09-30\"language:python&sort=stars&order=desc'\n",
    "response = requests.get(url).json()\n",
    "\n",
    "print(response)"
   ]
  },
  {
   "cell_type": "code",
   "execution_count": 24,
   "id": "7cacac0d",
   "metadata": {},
   "outputs": [
    {
     "data": {
      "text/plain": [
       "{'message': 'Validation Failed',\n",
       " 'errors': [{'resource': 'Search', 'field': 'q', 'code': 'missing'}],\n",
       " 'documentation_url': 'https://docs.github.com/v3/search'}"
      ]
     },
     "execution_count": 24,
     "metadata": {},
     "output_type": "execute_result"
    }
   ],
   "source": [
    "url = 'https://api.github.com/search/repositories'\n",
    "\n",
    "params = {\n",
    "    'created': \">2018-09-30\",\n",
    "    'language' : 'python',\n",
    "    'sort' : 'stars',\n",
    "    'order' : 'desc'\n",
    "}\n",
    "\n",
    "\n",
    "response = requests.get(url, params=params).json()\n",
    "\n",
    "response"
   ]
  },
  {
   "cell_type": "code",
   "execution_count": 21,
   "id": "76cf6543",
   "metadata": {},
   "outputs": [
    {
     "name": "stdout",
     "output_type": "stream",
     "text": [
      "{'login': 'ssaunier', 'id': 414418, 'node_id': 'MDQ6VXNlcjQxNDQxOA==', 'avatar_url': 'https://avatars.githubusercontent.com/u/414418?v=4', 'gravatar_id': '', 'url': 'https://api.github.com/users/ssaunier', 'html_url': 'https://github.com/ssaunier', 'followers_url': 'https://api.github.com/users/ssaunier/followers', 'following_url': 'https://api.github.com/users/ssaunier/following{/other_user}', 'gists_url': 'https://api.github.com/users/ssaunier/gists{/gist_id}', 'starred_url': 'https://api.github.com/users/ssaunier/starred{/owner}{/repo}', 'subscriptions_url': 'https://api.github.com/users/ssaunier/subscriptions', 'organizations_url': 'https://api.github.com/users/ssaunier/orgs', 'repos_url': 'https://api.github.com/users/ssaunier/repos', 'events_url': 'https://api.github.com/users/ssaunier/events{/privacy}', 'received_events_url': 'https://api.github.com/users/ssaunier/received_events', 'type': 'User', 'site_admin': False, 'name': 'Sébastien Saunier', 'company': 'CTO & Co-Founder @lewagon', 'blog': 'https://www.lewagon.com', 'location': 'France', 'email': None, 'hireable': None, 'bio': 'Teaching code to creative people.', 'twitter_username': None, 'public_repos': 145, 'public_gists': 67, 'followers': 1978, 'following': 203, 'created_at': '2010-09-24T13:31:21Z', 'updated_at': '2022-06-03T14:09:00Z'}\n"
     ]
    }
   ],
   "source": [
    "import requests\n",
    "\n",
    "url = 'https://api.github.com/users/ssaunier'\n",
    "response = requests.get(url).json()\n",
    "\n",
    "print(response)"
   ]
  },
  {
   "cell_type": "code",
   "execution_count": 44,
   "id": "06b4dd53",
   "metadata": {},
   "outputs": [
    {
     "data": {
      "text/plain": [
       "'All polar bears are left-handed.'"
      ]
     },
     "execution_count": 44,
     "metadata": {},
     "output_type": "execute_result"
    }
   ],
   "source": [
    "import requests\n",
    "\n",
    "base_url = 'https://uselessfacts.jsph.pl/'\n",
    "\n",
    "endpoint = 'random.json'\n",
    "\n",
    "full_url = base_url + endpoint\n",
    "\n",
    "params = {\n",
    "    'language' : 'en'\n",
    "}\n",
    "\n",
    "response = requests.get(full_url, params=params).json()\n",
    "\n",
    "response['text']"
   ]
  },
  {
   "cell_type": "code",
   "execution_count": 27,
   "id": "d64a6ac6",
   "metadata": {},
   "outputs": [
    {
     "data": {
      "text/plain": [
       "{'id': 'ca37efc4-6305-4e86-aaa8-9c3f74b9660e',\n",
       " 'text': 'More people are killed annually by donkeys than airplane crashes.',\n",
       " 'source': 'djtech.net',\n",
       " 'source_url': 'http://www.djtech.net/humor/useless_facts.htm',\n",
       " 'language': 'en',\n",
       " 'permalink': 'https://uselessfacts.jsph.pl/ca37efc4-6305-4e86-aaa8-9c3f74b9660e'}"
      ]
     },
     "execution_count": 27,
     "metadata": {},
     "output_type": "execute_result"
    }
   ],
   "source": [
    "response"
   ]
  },
  {
   "cell_type": "code",
   "execution_count": 37,
   "id": "d8364e90",
   "metadata": {},
   "outputs": [
    {
     "data": {
      "text/plain": [
       "'The average person spends 12 weeks a year `looking for things`.'"
      ]
     },
     "execution_count": 37,
     "metadata": {},
     "output_type": "execute_result"
    }
   ],
   "source": [
    "import requests\n",
    "\n",
    "response = requests.get('https://uselessfacts.jsph.pl/random.json?language=en').json()\n",
    "\n",
    "response['text']"
   ]
  },
  {
   "cell_type": "code",
   "execution_count": 38,
   "id": "ad0215ed",
   "metadata": {},
   "outputs": [
    {
     "data": {
      "text/plain": [
       "'https://uselessfacts.jsph.pl/random.json?language=en'"
      ]
     },
     "execution_count": 38,
     "metadata": {},
     "output_type": "execute_result"
    }
   ],
   "source": [
    "'https://uselessfacts.jsph.pl/random.json?language=en'"
   ]
  },
  {
   "cell_type": "code",
   "execution_count": 1,
   "id": "96c8d4ba",
   "metadata": {},
   "outputs": [
    {
     "name": "stdout",
     "output_type": "stream",
     "text": [
      "The Zen of Python, by Tim Peters\n",
      "\n",
      "Beautiful is better than ugly.\n",
      "Explicit is better than implicit.\n",
      "Simple is better than complex.\n",
      "Complex is better than complicated.\n",
      "Flat is better than nested.\n",
      "Sparse is better than dense.\n",
      "Readability counts.\n",
      "Special cases aren't special enough to break the rules.\n",
      "Although practicality beats purity.\n",
      "Errors should never pass silently.\n",
      "Unless explicitly silenced.\n",
      "In the face of ambiguity, refuse the temptation to guess.\n",
      "There should be one-- and preferably only one --obvious way to do it.\n",
      "Although that way may not be obvious at first unless you're Dutch.\n",
      "Now is better than never.\n",
      "Although never is often better than *right* now.\n",
      "If the implementation is hard to explain, it's a bad idea.\n",
      "If the implementation is easy to explain, it may be a good idea.\n",
      "Namespaces are one honking great idea -- let's do more of those!\n"
     ]
    }
   ],
   "source": [
    "import this"
   ]
  },
  {
   "cell_type": "code",
   "execution_count": 13,
   "id": "3b933937",
   "metadata": {},
   "outputs": [
    {
     "data": {
      "text/html": [
       "<ul>Unordered list: <li> item 1 </li><li> item 2 </li><ul>"
      ],
      "text/plain": [
       "<IPython.core.display.HTML object>"
      ]
     },
     "metadata": {},
     "output_type": "display_data"
    },
    {
     "data": {
      "text/html": [
       "<ol>Ordered list: <li> item 1 </li><li> item 2 </li><ol>"
      ],
      "text/plain": [
       "<IPython.core.display.HTML object>"
      ]
     },
     "metadata": {},
     "output_type": "display_data"
    }
   ],
   "source": [
    "display(HTML('<ul>Unordered list: <li> item 1 </li><li> item 2 </li><ul>'))\n",
    "display(HTML('<ol>Ordered list: <li> item 1 </li><li> item 2 </li><ol>'))"
   ]
  },
  {
   "cell_type": "code",
   "execution_count": 17,
   "id": "9e24d3ab",
   "metadata": {},
   "outputs": [
    {
     "data": {
      "text/html": [
       "<div><p> This is a paragraph </p><p> This is another paragraph </p></div>"
      ],
      "text/plain": [
       "<IPython.core.display.HTML object>"
      ]
     },
     "metadata": {},
     "output_type": "display_data"
    }
   ],
   "source": [
    "display(HTML('<div><p> This is a paragraph</p><p> This is another paragraph </p></div>'))"
   ]
  },
  {
   "cell_type": "code",
   "execution_count": 12,
   "id": "f073e636",
   "metadata": {},
   "outputs": [
    {
     "data": {
      "text/html": [
       "<h1> This is a header </h1>"
      ],
      "text/plain": [
       "<IPython.core.display.HTML object>"
      ]
     },
     "metadata": {},
     "output_type": "display_data"
    },
    {
     "data": {
      "text/html": [
       "<h2> This is a smaller header </h2>"
      ],
      "text/plain": [
       "<IPython.core.display.HTML object>"
      ]
     },
     "metadata": {},
     "output_type": "display_data"
    },
    {
     "data": {
      "text/html": [
       "<p> This is a paragraph </p>"
      ],
      "text/plain": [
       "<IPython.core.display.HTML object>"
      ]
     },
     "metadata": {},
     "output_type": "display_data"
    },
    {
     "data": {
      "text/html": [
       "<p> Here it's in <strong> bold </strong> </p>"
      ],
      "text/plain": [
       "<IPython.core.display.HTML object>"
      ]
     },
     "metadata": {},
     "output_type": "display_data"
    },
    {
     "data": {
      "text/html": [
       "<p> Here it's in <i> italic </i> </p>"
      ],
      "text/plain": [
       "<IPython.core.display.HTML object>"
      ]
     },
     "metadata": {},
     "output_type": "display_data"
    }
   ],
   "source": [
    "from IPython.core.display import display, HTML\n",
    "display(HTML('<h1> This is a header </h1>'))\n",
    "display(HTML('<h2> This is a smaller header </h2>'))\n",
    "display(HTML('<p> This is a paragraph </p>'))\n",
    "display(HTML(\"<p> Here it's in <strong> bold </strong> </p>\"))\n",
    "display(HTML(\"<p> Here it's in <i> italic </i> </p>\"))"
   ]
  },
  {
   "cell_type": "code",
   "execution_count": 6,
   "id": "2e55c6c1",
   "metadata": {},
   "outputs": [
    {
     "data": {
      "text/html": [
       "<a  href = “https://www.lewagon.com/”> This is a link to Le Wagon </closing tag>"
      ],
      "text/plain": [
       "<IPython.core.display.HTML object>"
      ]
     },
     "metadata": {},
     "output_type": "display_data"
    }
   ],
   "source": [
    "from IPython.core.display import display, HTML\n",
    "display(HTML('<a  href = “https://www.lewagon.com/”> \\\n",
    "This is a link to Le Wagon </closing tag>'))"
   ]
  },
  {
   "cell_type": "code",
   "execution_count": 29,
   "id": "97640470",
   "metadata": {},
   "outputs": [
    {
     "data": {
      "text/plain": [
       "bs4.BeautifulSoup"
      ]
     },
     "execution_count": 29,
     "metadata": {},
     "output_type": "execute_result"
    }
   ],
   "source": [
    "import requests\n",
    "\n",
    "from bs4 import BeautifulSoup\n",
    "\n",
    "\n",
    "url = 'https://www.lewagon.com'\n",
    "\n",
    "response = requests.get(url)\n",
    "\n",
    "html = response.content\n",
    "\n",
    "soup = BeautifulSoup(html)\n",
    "\n",
    "type(soup)"
   ]
  },
  {
   "cell_type": "code",
   "execution_count": 32,
   "id": "52fc43e6",
   "metadata": {},
   "outputs": [
    {
     "data": {
      "text/plain": [
       "'Coding Bootcamp | Le Wagon'"
      ]
     },
     "execution_count": 32,
     "metadata": {},
     "output_type": "execute_result"
    }
   ],
   "source": [
    "soup.title.text"
   ]
  },
  {
   "cell_type": "code",
   "execution_count": 49,
   "id": "757501e4",
   "metadata": {},
   "outputs": [
    {
     "data": {
      "text/plain": [
       "'code'"
      ]
     },
     "execution_count": 49,
     "metadata": {},
     "output_type": "execute_result"
    }
   ],
   "source": [
    "soup.body.header.div.h1.i.text"
   ]
  },
  {
   "cell_type": "code",
   "execution_count": 50,
   "id": "f1b687c3",
   "metadata": {},
   "outputs": [
    {
     "data": {
      "text/plain": [
       "'code'"
      ]
     },
     "execution_count": 50,
     "metadata": {},
     "output_type": "execute_result"
    }
   ],
   "source": [
    "soup.find('i', class_='highlighted').text"
   ]
  },
  {
   "cell_type": "code",
   "execution_count": 51,
   "id": "e85b52a5",
   "metadata": {},
   "outputs": [
    {
     "data": {
      "text/plain": [
       "bs4.BeautifulSoup"
      ]
     },
     "execution_count": 51,
     "metadata": {},
     "output_type": "execute_result"
    }
   ],
   "source": [
    "import requests\n",
    "\n",
    "from bs4 import BeautifulSoup\n",
    "\n",
    "\n",
    "url = 'https://www.lewagon.com/campuses'\n",
    "\n",
    "response = requests.get(url)\n",
    "\n",
    "html = response.content\n",
    "\n",
    "soup = BeautifulSoup(html)\n",
    "\n",
    "type(soup)"
   ]
  },
  {
   "cell_type": "code",
   "execution_count": 60,
   "id": "5b101a08",
   "metadata": {},
   "outputs": [
    {
     "name": "stdout",
     "output_type": "stream",
     "text": [
      "Amsterdam\n",
      "Bali\n",
      "Barcelona\n",
      "Berlin\n",
      "Bordeaux\n",
      "Brussels\n",
      "Buenos Aires\n",
      "Cape Town\n",
      "Casablanca\n",
      "Cologne\n",
      "Lausanne\n",
      "Lille\n",
      "Lima\n",
      "Lisbon\n",
      "London\n",
      "Lyon\n",
      "Madrid\n",
      "Marseille\n",
      "Mauritius\n",
      "Melbourne\n",
      "Mexico\n",
      "Milan\n",
      "Montreal\n",
      "Munich\n",
      "Nantes\n",
      "Nice\n",
      "Online\n",
      "Paris\n",
      "Playa del Carmen\n",
      "Porto\n",
      "Rennes\n",
      "Rio de Janeiro\n",
      "Santiago\n",
      "Shanghai\n",
      "Singapore\n",
      "São Paulo\n",
      "Tokyo\n",
      "Zurich\n"
     ]
    }
   ],
   "source": [
    "for city in soup.find_all('div', class_='city-card-details'):\n",
    "    print(city.h3.text)"
   ]
  },
  {
   "cell_type": "code",
   "execution_count": null,
   "id": "17bfc7a6",
   "metadata": {},
   "outputs": [],
   "source": []
  }
 ],
 "metadata": {
  "kernelspec": {
   "display_name": "Python 3.8.12 64-bit ('lewagon')",
   "language": "python",
   "name": "python3"
  },
  "language_info": {
   "codemirror_mode": {
    "name": "ipython",
    "version": 3
   },
   "file_extension": ".py",
   "mimetype": "text/x-python",
   "name": "python",
   "nbconvert_exporter": "python",
   "pygments_lexer": "ipython3",
   "version": "3.8.12"
  },
  "toc": {
   "base_numbering": 1,
   "nav_menu": {},
   "number_sections": true,
   "sideBar": true,
   "skip_h1_title": false,
   "title_cell": "Table of Contents",
   "title_sidebar": "Contents",
   "toc_cell": false,
   "toc_position": {},
   "toc_section_display": true,
   "toc_window_display": false
  },
  "vscode": {
   "interpreter": {
    "hash": "63305f572d39f1f057a29d6f90b97f50226f939806bf67798e7b1d2d4622b84a"
   }
  }
 },
 "nbformat": 4,
 "nbformat_minor": 5
}
