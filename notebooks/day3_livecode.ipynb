{
 "cells": [
  {
   "cell_type": "markdown",
   "metadata": {},
   "source": [
    "## Import libraries and dataset"
   ]
  },
  {
   "cell_type": "code",
   "execution_count": 1,
   "metadata": {},
   "outputs": [],
   "source": [
    "import pandas as pd\n",
    "import matplotlib.pyplot as plt"
   ]
  },
  {
   "cell_type": "code",
   "execution_count": 2,
   "metadata": {},
   "outputs": [],
   "source": [
    "# get dataset\n",
    "loans_df =  pd.read_csv('../data/data_preprocessed.csv', index_col=0)"
   ]
  },
  {
   "cell_type": "code",
   "execution_count": 3,
   "metadata": {},
   "outputs": [
    {
     "data": {
      "text/html": [
       "<div>\n",
       "<style scoped>\n",
       "    .dataframe tbody tr th:only-of-type {\n",
       "        vertical-align: middle;\n",
       "    }\n",
       "\n",
       "    .dataframe tbody tr th {\n",
       "        vertical-align: top;\n",
       "    }\n",
       "\n",
       "    .dataframe thead th {\n",
       "        text-align: right;\n",
       "    }\n",
       "</style>\n",
       "<table border=\"1\" class=\"dataframe\">\n",
       "  <thead>\n",
       "    <tr style=\"text-align: right;\">\n",
       "      <th></th>\n",
       "      <th>loan_amnt</th>\n",
       "      <th>term</th>\n",
       "      <th>int_rate</th>\n",
       "      <th>installment</th>\n",
       "      <th>grade</th>\n",
       "      <th>emp_length</th>\n",
       "      <th>annual_inc</th>\n",
       "      <th>dti</th>\n",
       "      <th>total_rec_late_fee</th>\n",
       "      <th>loan_status</th>\n",
       "      <th>mortgage</th>\n",
       "      <th>own</th>\n",
       "      <th>rent</th>\n",
       "    </tr>\n",
       "  </thead>\n",
       "  <tbody>\n",
       "    <tr>\n",
       "      <th>0</th>\n",
       "      <td>15000.0</td>\n",
       "      <td>0.0</td>\n",
       "      <td>6.97</td>\n",
       "      <td>462.96</td>\n",
       "      <td>6.0</td>\n",
       "      <td>5</td>\n",
       "      <td>60000.0</td>\n",
       "      <td>21.84</td>\n",
       "      <td>0.000000</td>\n",
       "      <td>1</td>\n",
       "      <td>1.0</td>\n",
       "      <td>0.0</td>\n",
       "      <td>0.0</td>\n",
       "    </tr>\n",
       "    <tr>\n",
       "      <th>1</th>\n",
       "      <td>8000.0</td>\n",
       "      <td>0.0</td>\n",
       "      <td>16.29</td>\n",
       "      <td>282.41</td>\n",
       "      <td>3.0</td>\n",
       "      <td>10</td>\n",
       "      <td>43000.0</td>\n",
       "      <td>24.81</td>\n",
       "      <td>0.000000</td>\n",
       "      <td>1</td>\n",
       "      <td>0.0</td>\n",
       "      <td>1.0</td>\n",
       "      <td>0.0</td>\n",
       "    </tr>\n",
       "    <tr>\n",
       "      <th>2</th>\n",
       "      <td>3500.0</td>\n",
       "      <td>1.0</td>\n",
       "      <td>20.50</td>\n",
       "      <td>93.71</td>\n",
       "      <td>2.0</td>\n",
       "      <td>5</td>\n",
       "      <td>34000.0</td>\n",
       "      <td>21.07</td>\n",
       "      <td>14.968877</td>\n",
       "      <td>0</td>\n",
       "      <td>0.0</td>\n",
       "      <td>1.0</td>\n",
       "      <td>0.0</td>\n",
       "    </tr>\n",
       "    <tr>\n",
       "      <th>4</th>\n",
       "      <td>24000.0</td>\n",
       "      <td>0.0</td>\n",
       "      <td>14.46</td>\n",
       "      <td>825.64</td>\n",
       "      <td>4.0</td>\n",
       "      <td>10</td>\n",
       "      <td>106404.0</td>\n",
       "      <td>13.54</td>\n",
       "      <td>0.000000</td>\n",
       "      <td>1</td>\n",
       "      <td>1.0</td>\n",
       "      <td>0.0</td>\n",
       "      <td>0.0</td>\n",
       "    </tr>\n",
       "    <tr>\n",
       "      <th>5</th>\n",
       "      <td>7200.0</td>\n",
       "      <td>0.0</td>\n",
       "      <td>7.90</td>\n",
       "      <td>225.29</td>\n",
       "      <td>6.0</td>\n",
       "      <td>3</td>\n",
       "      <td>68000.0</td>\n",
       "      <td>7.98</td>\n",
       "      <td>14.979058</td>\n",
       "      <td>0</td>\n",
       "      <td>0.0</td>\n",
       "      <td>0.0</td>\n",
       "      <td>1.0</td>\n",
       "    </tr>\n",
       "  </tbody>\n",
       "</table>\n",
       "</div>"
      ],
      "text/plain": [
       "   loan_amnt  term  int_rate  installment  grade  emp_length  annual_inc  \\\n",
       "0    15000.0   0.0      6.97       462.96    6.0           5     60000.0   \n",
       "1     8000.0   0.0     16.29       282.41    3.0          10     43000.0   \n",
       "2     3500.0   1.0     20.50        93.71    2.0           5     34000.0   \n",
       "4    24000.0   0.0     14.46       825.64    4.0          10    106404.0   \n",
       "5     7200.0   0.0      7.90       225.29    6.0           3     68000.0   \n",
       "\n",
       "     dti  total_rec_late_fee  loan_status  mortgage  own  rent  \n",
       "0  21.84            0.000000            1       1.0  0.0   0.0  \n",
       "1  24.81            0.000000            1       0.0  1.0   0.0  \n",
       "2  21.07           14.968877            0       0.0  1.0   0.0  \n",
       "4  13.54            0.000000            1       1.0  0.0   0.0  \n",
       "5   7.98           14.979058            0       0.0  0.0   1.0  "
      ]
     },
     "execution_count": 3,
     "metadata": {},
     "output_type": "execute_result"
    }
   ],
   "source": [
    "#show first 5 lines\n",
    "loans_df.head()"
   ]
  },
  {
   "cell_type": "code",
   "execution_count": 4,
   "metadata": {},
   "outputs": [],
   "source": [
    "#loans_df = loans_df.sample(10000)"
   ]
  },
  {
   "cell_type": "markdown",
   "metadata": {},
   "source": [
    "# Regression tasks"
   ]
  },
  {
   "cell_type": "markdown",
   "metadata": {},
   "source": [
    "Remember with regression tasks we want to predict a continous variable. In our example we're going to try to predict `loan_amnt` with our other features."
   ]
  },
  {
   "cell_type": "markdown",
   "metadata": {},
   "source": [
    "### Basic example\n",
    "\n",
    "Let's code through a simple example and see how we can infere our intercept and slope."
   ]
  },
  {
   "cell_type": "code",
   "execution_count": 5,
   "metadata": {},
   "outputs": [],
   "source": [
    "#sample 50 observations\n",
    "loans_df_small = loans_df.sample(50)\n",
    "\n",
    "#split into X and y\n",
    "X_small = loans_df_small[['annual_inc']]\n",
    "y_small = loans_df_small['loan_amnt']"
   ]
  },
  {
   "cell_type": "code",
   "execution_count": 6,
   "metadata": {},
   "outputs": [
    {
     "data": {
      "image/png": "[encoded data removed]",
      "text/plain": [
       "<Figure size 432x288 with 1 Axes>"
      ]
     },
     "metadata": {
      "needs_background": "light"
     },
     "output_type": "display_data"
    }
   ],
   "source": [
    "#let's plot our observations as a scatterplot\n",
    "plt.scatter(X_small, y_small);"
   ]
  },
  {
   "cell_type": "code",
   "execution_count": 7,
   "metadata": {},
   "outputs": [
    {
     "ename": "ModuleNotFoundError",
     "evalue": "No module named 'sklearn'",
     "output_type": "error",
     "traceback": [
      "\u001b[0;31m---------------------------------------------------------------------------\u001b[0m",
      "\u001b[0;31mModuleNotFoundError\u001b[0m                       Traceback (most recent call last)",
      "\u001b[1;32m/Users/michieldekoninck/code/Michiel-DK/data_for_business/notebooks/day3_livecode.ipynb Cell 11'\u001b[0m in \u001b[0;36m<cell line: 1>\u001b[0;34m()\u001b[0m\n\u001b[0;32m----> <a href='vscode-notebook-cell:/Users/michieldekoninck/code/Michiel-DK/data_for_business/notebooks/day3_livecode.ipynb#ch0000010?line=0'>1</a>\u001b[0m \u001b[39mfrom\u001b[39;00m \u001b[39msklearn\u001b[39;00m\u001b[39m.\u001b[39;00m\u001b[39mlinear_model\u001b[39;00m \u001b[39mimport\u001b[39;00m LinearRegression\n\u001b[1;32m      <a href='vscode-notebook-cell:/Users/michieldekoninck/code/Michiel-DK/data_for_business/notebooks/day3_livecode.ipynb#ch0000010?line=2'>3</a>\u001b[0m \u001b[39m# Instantiate the model\u001b[39;00m\n\u001b[1;32m      <a href='vscode-notebook-cell:/Users/michieldekoninck/code/Michiel-DK/data_for_business/notebooks/day3_livecode.ipynb#ch0000010?line=3'>4</a>\u001b[0m lin_reg \u001b[39m=\u001b[39m LinearRegression()\n",
      "\u001b[0;31mModuleNotFoundError\u001b[0m: No module named 'sklearn'"
     ]
    }
   ],
   "source": [
    "from sklearn.linear_model import LinearRegression\n",
    "\n",
    "# Instantiate the model\n",
    "lin_reg = LinearRegression()\n",
    "\n",
    "# Train the model on the training data\n",
    "lin_reg.fit(X_small, y_small)"
   ]
  },
  {
   "cell_type": "markdown",
   "metadata": {},
   "source": [
    "Now that we have a trained model we can use the `.intercept_` and `.coef_` attributes to get our intercept and slope. Then we can plot our line-of-best-fit on our scatterplot."
   ]
  },
  {
   "cell_type": "code",
   "execution_count": 67,
   "metadata": {},
   "outputs": [],
   "source": [
    "intercept = lin_reg.intercept_\n",
    "slope = lin_reg.coef_"
   ]
  },
  {
   "cell_type": "code",
   "execution_count": 68,
   "metadata": {},
   "outputs": [
    {
     "data": {
      "image/png": "[encoded data removed]",
      "text/plain": [
       "<Figure size 432x288 with 1 Axes>"
      ]
     },
     "metadata": {
      "needs_background": "light"
     },
     "output_type": "display_data"
    }
   ],
   "source": [
    "plt.scatter(X_small, y_small)\n",
    "plt.plot(X_small, intercept+slope*X_small, c='r');"
   ]
  },
  {
   "cell_type": "markdown",
   "metadata": {},
   "source": [
    "### Full Example"
   ]
  },
  {
   "cell_type": "markdown",
   "metadata": {},
   "source": [
    "#### Train test split"
   ]
  },
  {
   "cell_type": "markdown",
   "metadata": {},
   "source": [
    "Let's split our data so we can see how well our model generalises. Remember with `generalize` we mean the ability of a model to handle unseen data."
   ]
  },
  {
   "cell_type": "code",
   "execution_count": 69,
   "metadata": {},
   "outputs": [],
   "source": [
    "#define x & y because we don't wanna scale our target\n",
    "from sklearn.model_selection import train_test_split\n",
    "\n",
    "X = loans_df.drop(columns=['loan_amnt'])\n",
    "\n",
    "y = loans_df.loan_amnt\n",
    "\n",
    "#train_test_split\n",
    "X_train, X_test, y_train, y_test = train_test_split(X, y, test_size=0.3, random_state=42)"
   ]
  },
  {
   "cell_type": "markdown",
   "metadata": {},
   "source": [
    "#### Linear regression"
   ]
  },
  {
   "cell_type": "markdown",
   "metadata": {},
   "source": [
    "Linear regression is one of the most basic models but still one of the go-to models in reality."
   ]
  },
  {
   "cell_type": "code",
   "execution_count": 70,
   "metadata": {},
   "outputs": [
    {
     "data": {
      "text/plain": [
       "LinearRegression()"
      ]
     },
     "execution_count": 70,
     "metadata": {},
     "output_type": "execute_result"
    }
   ],
   "source": [
    "from sklearn.linear_model import LinearRegression\n",
    "\n",
    "# Instantiate the model\n",
    "lin_reg = LinearRegression()\n",
    "\n",
    "# Train the model on the training data\n",
    "lin_reg.fit(X_train, y_train)"
   ]
  },
  {
   "cell_type": "markdown",
   "metadata": {},
   "source": [
    "Now that we have a trained model, meaning our model knows the ideal intercept and slopes for all features, we can score it using the metrics we saw during the lecture.\n",
    "\n",
    "We will first have to use the `.predict()` to get our predictions for `X` using our trained model"
   ]
  },
  {
   "cell_type": "code",
   "execution_count": 71,
   "metadata": {},
   "outputs": [],
   "source": [
    "from sklearn.metrics import mean_squared_error, mean_absolute_error, max_error\n",
    "\n",
    "#get our predictions\n",
    "y_pred = lin_reg.predict(X_test)\n",
    "\n",
    "#score our model\n",
    "lin_mse = mean_squared_error(y_test, y_pred, squared=False)\n",
    "lin_mae = mean_absolute_error(y_test, y_pred)\n",
    "lin_max_er = max_error(y_test, y_pred)\n",
    "\n",
    "# print(f\"The MSE for our model is {lin_mse}\")\n",
    "# print(f\"The MAE for our model is {lin_mae}\")\n",
    "# print(f\"The Max error for our model is {lin_max_er}\")"
   ]
  },
  {
   "cell_type": "markdown",
   "metadata": {},
   "source": [
    "#### Decision tree regressor"
   ]
  },
  {
   "cell_type": "markdown",
   "metadata": {},
   "source": [
    "Let's do the same process using a `decision tree regressor`. We can then use the metrics to see which model performs better in which case."
   ]
  },
  {
   "cell_type": "code",
   "execution_count": 72,
   "metadata": {},
   "outputs": [
    {
     "data": {
      "text/plain": [
       "DecisionTreeRegressor()"
      ]
     },
     "execution_count": 72,
     "metadata": {},
     "output_type": "execute_result"
    }
   ],
   "source": [
    "from sklearn.tree import DecisionTreeRegressor\n",
    "\n",
    "# Instantiate the model\n",
    "tree = DecisionTreeRegressor()\n",
    "\n",
    "# Train the model on the Training data\n",
    "tree.fit(X_train, y_train)"
   ]
  },
  {
   "cell_type": "code",
   "execution_count": 73,
   "metadata": {},
   "outputs": [],
   "source": [
    "#get our predictions\n",
    "y_pred = tree.predict(X_test)\n",
    "\n",
    "#score our model\n",
    "tree_mse = mean_squared_error(y_test, y_pred, squared=False)\n",
    "tree_mae = mean_absolute_error(y_test, y_pred)\n",
    "tree_max_er = max_error(y_test, y_pred)\n",
    "\n",
    "# print(f\"The MSE for our model is {tree_mse}\")\n",
    "# print(f\"The MAE for our model is {tree_mae}\")\n",
    "# print(f\"The Max error for our model is {tree_max_er}\")"
   ]
  },
  {
   "cell_type": "markdown",
   "metadata": {},
   "source": [
    "Now let's compare the two models:"
   ]
  },
  {
   "cell_type": "code",
   "execution_count": 74,
   "metadata": {},
   "outputs": [
    {
     "name": "stdout",
     "output_type": "stream",
     "text": [
      "RMSE Linear Regression: 1122.84, RMSE Decision tree 353.77\n",
      "MAE Linear Regression: 694.53, MAE Decision tree 46.92\n",
      "Max error Linear Regression: 17319.47, Max error Decision tree 17150.0\n"
     ]
    }
   ],
   "source": [
    "print(f\"RMSE Linear Regression: {round(lin_mse,2)}, RMSE Decision tree {round(tree_mse,2)}\")\n",
    "print(f\"MAE Linear Regression: {round(lin_mae,2)}, MAE Decision tree {round(tree_mae,2)}\")\n",
    "print(f\"Max error Linear Regression: {round(lin_max_er,2)}, Max error Decision tree {round(tree_max_er,2)}\")"
   ]
  },
  {
   "cell_type": "markdown",
   "metadata": {},
   "source": [
    "We can see that our decision tree model performs better across the board. It has a lower `RMSE` which means that when over-penalizing big errors our Decision Tree model performs better. When not over-penalizing these errors it performs better, given by the lower `MAE`. Also the `max error`, the single biggest error in our model, is lower for our Decision tree.\n"
   ]
  },
  {
   "cell_type": "markdown",
   "metadata": {},
   "source": [
    "## Classification tasks"
   ]
  },
  {
   "cell_type": "markdown",
   "metadata": {},
   "source": [
    "With classification we're trying to predict a specific class represented by binary values. Let's use an `SVM` and `Decision Tree Classifier` to try to predict `loan_status`. Afterwards we will use the different metrics we learned and see how our models compare to each other."
   ]
  },
  {
   "cell_type": "markdown",
   "metadata": {},
   "source": [
    "#### Train test split"
   ]
  },
  {
   "cell_type": "code",
   "execution_count": 75,
   "metadata": {},
   "outputs": [],
   "source": [
    "#define x & y because we don't wanna scale our target\n",
    "from sklearn.model_selection import train_test_split\n",
    "\n",
    "X = loans_df.drop(columns=['loan_status'])\n",
    "\n",
    "y = loans_df.loan_status\n",
    "\n",
    "#train_test_split\n",
    "X_train, X_test, y_train, y_test = train_test_split(X, y, test_size=0.3, random_state=42)"
   ]
  },
  {
   "cell_type": "markdown",
   "metadata": {},
   "source": [
    "#### Decision tree classifier"
   ]
  },
  {
   "cell_type": "code",
   "execution_count": 76,
   "metadata": {},
   "outputs": [
    {
     "data": {
      "text/plain": [
       "0.7149964463397299"
      ]
     },
     "execution_count": 76,
     "metadata": {},
     "output_type": "execute_result"
    }
   ],
   "source": [
    "from sklearn.tree import DecisionTreeClassifier\n",
    "\n",
    "#instantiate model\n",
    "tree_reg = DecisionTreeClassifier()\n",
    "\n",
    "#fit model to our training data\n",
    "tree_reg.fit(X_train, y_train)\n",
    "\n",
    "#we can use the built-in method .score() to get our accuracy score\n",
    "tree_reg.score(X_test, y_test)"
   ]
  },
  {
   "cell_type": "markdown",
   "metadata": {},
   "source": [
    "Let's take a minute to think about our score here. \n",
    "\n",
    "The `.score()` method gives back our `accuracy-score`. So our 71% accuracy is the amount of observations our model was right about. Seems relatively oke right?\n",
    "\n",
    "But let's have a look again at our the distribution of our `loan_status` status variable."
   ]
  },
  {
   "cell_type": "code",
   "execution_count": 77,
   "metadata": {},
   "outputs": [
    {
     "data": {
      "text/plain": [
       "1    101896\n",
       "0     24732\n",
       "Name: loan_status, dtype: int64"
      ]
     },
     "execution_count": 77,
     "metadata": {},
     "output_type": "execute_result"
    }
   ],
   "source": [
    "# check value counts\n",
    "y.value_counts()"
   ]
  },
  {
   "cell_type": "code",
   "execution_count": 78,
   "metadata": {},
   "outputs": [
    {
     "data": {
      "text/plain": [
       "0.804687746785861"
      ]
     },
     "execution_count": 78,
     "metadata": {},
     "output_type": "execute_result"
    }
   ],
   "source": [
    "# calculate percentage of most dominant class\n",
    "y.sum() / y.shape[0]"
   ]
  },
  {
   "cell_type": "markdown",
   "metadata": {},
   "source": [
    "So by calculating the percentage `fully paid` on the total y column, we can see that this class consists of about 80% of the total amount of observations. \n",
    "\n",
    "This means that if we would have just guessed this category everytime we would have been right about 80% of the time, which is better than our model.\n",
    "\n",
    "Let's look into our other metrics to see how our model performs there."
   ]
  },
  {
   "cell_type": "code",
   "execution_count": 79,
   "metadata": {},
   "outputs": [
    {
     "name": "stdout",
     "output_type": "stream",
     "text": [
      "0.7149964463397299 0.8129710952349741 0.8289170314431784 0.8208666302675335\n"
     ]
    }
   ],
   "source": [
    "from sklearn.metrics import precision_score, recall_score, accuracy_score, f1_score\n",
    "\n",
    "# calculate y_pred\n",
    "y_pred = tree_reg.predict(X_test)\n",
    "\n",
    "#calculate scores\n",
    "accuracy = accuracy_score(y_test, y_pred)\n",
    "recall = recall_score(y_test, y_pred)\n",
    "precision = precision_score(y_test, y_pred)\n",
    "f1 = f1_score(y_test, y_pred)\n",
    "\n",
    "print(accuracy, recall, precision, f1);"
   ]
  },
  {
   "cell_type": "markdown",
   "metadata": {},
   "source": [
    "Looking into our other metrics we see that the model performs a lot better.\n",
    "\n",
    "Using our model it's possible to detect 81% of all users who will fully pay their loan. Also when we detect them, we're correct 82% of the time. Can you guess which metrics these are?"
   ]
  },
  {
   "cell_type": "markdown",
   "metadata": {},
   "source": [
    "#### SVM"
   ]
  },
  {
   "cell_type": "markdown",
   "metadata": {},
   "source": [
    "As mentioned in the lecture we can use a `SVM` for classification tasks. Let's fit, train and score a model on our dateset.\n",
    "\n",
    "We'll use an `RBF kernel` in our SVM model. This is quite high level for now so what you should understand here is that it allows our model to use higher dimensions for the seperation of the data. Using a `linear kernel` here would be difficult since our data will not be linearly seperable.\n",
    "\n",
    "Please take note that it'll still take quite some time :)"
   ]
  },
  {
   "cell_type": "code",
   "execution_count": 80,
   "metadata": {},
   "outputs": [],
   "source": [
    "from sklearn.preprocessing import StandardScaler\n",
    "\n",
    "standard = StandardScaler().fit(X_train)\n",
    "\n",
    "X_train_rescaled = standard.transform(X_train)"
   ]
  },
  {
   "cell_type": "code",
   "execution_count": 81,
   "metadata": {},
   "outputs": [
    {
     "data": {
      "text/plain": [
       "0.6970702045328911"
      ]
     },
     "execution_count": 81,
     "metadata": {},
     "output_type": "execute_result"
    }
   ],
   "source": [
    "from sklearn.svm import SVC\n",
    "\n",
    "# Instantiate the model => we use an rbf kernel to work in higher dimension as this dataset will not be linearly seperable\n",
    "svm = SVC(kernel='rbf' , class_weight={0:4,1:1})\n",
    "\n",
    "# Train the model on the Training data\n",
    "svm.fit(X_train_rescaled, y_train)\n",
    "\n",
    "# Score the model on the Test data\n",
    "svm.score(standard.transform(X_test),y_test)"
   ]
  },
  {
   "cell_type": "markdown",
   "metadata": {},
   "source": [
    "Our accuracy score should be better than our decision tree. However still not quite better then just guessing the dominant category. Let's have a look at our other metrics."
   ]
  },
  {
   "cell_type": "code",
   "execution_count": 60,
   "metadata": {},
   "outputs": [
    {
     "name": "stdout",
     "output_type": "stream",
     "text": [
      "0.693 0.7125919869174162 0.88883222845487 0.7910142954390743\n"
     ]
    }
   ],
   "source": [
    "# calculate y_pred\n",
    "y_pred = svm.predict(standard.transform(X_test))\n",
    "\n",
    "#calculate scores\n",
    "accuracy = accuracy_score(y_test, y_pred)\n",
    "recall = recall_score(y_test, y_pred)\n",
    "precision = precision_score(y_test, y_pred)\n",
    "f1 = f1_score(y_test, y_pred)\n",
    "\n",
    "print(accuracy, recall, precision, f1);"
   ]
  },
  {
   "cell_type": "markdown",
   "metadata": {},
   "source": [
    "Going through our scores we can see that our new model outperforms our decision tree on `accuracy` and `f1`. We do however have a `recall` score of 100%, meaning our model basically predicts all our instances of class 1. This is not great right! We'll see later on how to improve on this"
   ]
  },
  {
   "cell_type": "markdown",
   "metadata": {},
   "source": []
  }
 ],
 "metadata": {
  "kernelspec": {
   "display_name": "Python 3.8.12 64-bit ('dforb')",
   "language": "python",
   "name": "python3"
  },
  "language_info": {
   "codemirror_mode": {
    "name": "ipython",
    "version": 3
   },
   "file_extension": ".py",
   "mimetype": "text/x-python",
   "name": "python",
   "nbconvert_exporter": "python",
   "pygments_lexer": "ipython3",
   "version": "3.8.12"
  },
  "orig_nbformat": 4,
  "vscode": {
   "interpreter": {
    "hash": "0e9ae77a68d479a28967a79b3dd1a040f581e32c13de9b5e9a3a6cf002e7768e"
   }
  }
 },
 "nbformat": 4,
 "nbformat_minor": 2
}
